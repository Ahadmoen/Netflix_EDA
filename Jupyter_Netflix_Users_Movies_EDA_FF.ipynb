{
 "cells": [
  {
   "cell_type": "markdown",
   "id": "2c726482-4ee5-4aa4-8dc5-23eca77c86d8",
   "metadata": {
    "tags": []
   },
   "source": [
    "# Netflix Data Analysis\n",
    "\n",
    "## Introduction\n",
    "\n",
    "In this analysis, we will be working with two datasets related to Netflix. Our goal is to analyze these datasets side by side to extract meaningful insights. The datasets are:\n",
    "\n",
    "1. **Netflix Userbase**\n",
    "2. **Netflix Titles**\n",
    "\n",
    "### 1. Netflix Userbase\n",
    "\n",
    "The `Netflix Userbase` dataset contains information about the users of Netflix. This dataset includes various attributes related to the users, such as their demographics, subscription details, and usage patterns. By analyzing this dataset, we aim to understand the user demographics, their subscription preferences, and their viewing habits.\n",
    "\n",
    "### 2. Netflix Titles\n",
    "\n",
    "The `Netflix Titles` dataset includes details about the content available on Netflix. This dataset provides information about the movies and TV shows, including their titles, genres, release dates, ratings, and more. By analyzing this dataset, we aim to understand the content library of Netflix, popular genres, and trends over time.\n"
   ]
  },
  {
   "cell_type": "markdown",
   "id": "95bdb5b4-0a7b-4f47-a7e8-937dbe79ef7c",
   "metadata": {},
   "source": [
    "![green-divider](https://user-images.githubusercontent.com/7065401/52071924-c003ad80-2562-11e9-8297-1c6595f8a7ff.png)"
   ]
  },
  {
   "cell_type": "markdown",
   "id": "51bacc8a-56a3-4417-9ac7-3ec2f16fc429",
   "metadata": {
    "tags": []
   },
   "source": [
    "# Table of Contents\n",
    "\n",
    "1. [Netflix Data Analysis](#netflix-data-analysis)\n",
    "2. [Introduction](#introduction)\n",
    "    - [1. Netflix Userbase](#1-netflix-userbase)\n",
    "    - [2. Netflix Titles](#2-netflix-titles)\n",
    "3. [Loading Datasets](#loading-datasets)\n",
    "4. [Overview of Dataset](#overview-of-dataset)\n",
    "5. [Correcting Data Type of Users Data](#correcting-data-type-of-users-data)\n",
    "6. [Data Issues and Handling Strategies](#data-issues-and-handling-strategies)\n",
    "    - [1. Empty Rows of Textual Data](#1-empty-rows-of-textual-data)\n",
    "    - [2. Missing Values in Textual Data Columns](#2-missing-values-in-textual-data-columns)\n",
    "    - [3. Release Year as Date Type](#3-release-year-as-date-type)\n",
    "7. [Next Steps](#next-steps)\n",
    "8. [Identify Missing Values](#identify-missing-values)\n",
    "    - [NOTE: While Identifying](#note-while-identifying)\n",
    "9. [Handling Missing Values](#handling-missing-values)\n",
    "    - [Filling Missing Values with Dummy Values](#filling-missing-values-with-dummy-values)\n",
    "    - [Except Dates for Two Reasons](#except-dates-for-two-reasons)\n",
    "10. [Netflix Movies Analysis](#netflix-movies-analysis)\n",
    "    - [This Year Analysis of Movies [Latest in Dataset]](#this-year-analysis-of-movies-latest-in-dataset)\n",
    "11. [Netflix Users Analysis](#netflix-users-analysis)\n",
    "    - [This Year User Analysis [Latest]](#this-year-user-analysis-latest)\n"
   ]
  },
  {
   "cell_type": "markdown",
   "id": "60912485-cf7e-4cbc-ae06-905771a72ca7",
   "metadata": {
    "tags": []
   },
   "source": [
    "![green-divider](https://user-images.githubusercontent.com/7065401/52071924-c003ad80-2562-11e9-8297-1c6595f8a7ff.png)"
   ]
  },
  {
   "cell_type": "markdown",
   "id": "66a2559c-1082-4d17-9644-783a4c677276",
   "metadata": {},
   "source": [
    "### Loading Datasets "
   ]
  },
  {
   "cell_type": "code",
   "execution_count": 3,
   "id": "114411f7-9bd8-4adc-aa7f-61600b99a3f3",
   "metadata": {
    "tags": []
   },
   "outputs": [],
   "source": [
    "import pandas as pd\n",
    "import matplotlib.pyplot as plt\n",
    "import numpy as np\n",
    "import seaborn as sns"
   ]
  },
  {
   "cell_type": "code",
   "execution_count": 4,
   "id": "2311e169-aa1c-4353-b223-e96ba4a4a954",
   "metadata": {
    "tags": []
   },
   "outputs": [],
   "source": [
    "netflix_users_df = pd.read_csv('NetflixUserbase.csv', index_col='User ID')"
   ]
  },
  {
   "cell_type": "code",
   "execution_count": 7,
   "id": "0d06515f-3495-48ef-baae-03e8a8ecd183",
   "metadata": {
    "tags": []
   },
   "outputs": [
    {
     "data": {
      "text/html": [
       "<div>\n",
       "<style scoped>\n",
       "    .dataframe tbody tr th:only-of-type {\n",
       "        vertical-align: middle;\n",
       "    }\n",
       "\n",
       "    .dataframe tbody tr th {\n",
       "        vertical-align: top;\n",
       "    }\n",
       "\n",
       "    .dataframe thead th {\n",
       "        text-align: right;\n",
       "    }\n",
       "</style>\n",
       "<table border=\"1\" class=\"dataframe\">\n",
       "  <thead>\n",
       "    <tr style=\"text-align: right;\">\n",
       "      <th></th>\n",
       "      <th>Subscription Type</th>\n",
       "      <th>Monthly Revenue</th>\n",
       "      <th>Join Date</th>\n",
       "      <th>Last Payment Date</th>\n",
       "      <th>Country</th>\n",
       "      <th>Age</th>\n",
       "      <th>Gender</th>\n",
       "      <th>Device</th>\n",
       "      <th>Plan Duration</th>\n",
       "    </tr>\n",
       "    <tr>\n",
       "      <th>User ID</th>\n",
       "      <th></th>\n",
       "      <th></th>\n",
       "      <th></th>\n",
       "      <th></th>\n",
       "      <th></th>\n",
       "      <th></th>\n",
       "      <th></th>\n",
       "      <th></th>\n",
       "      <th></th>\n",
       "    </tr>\n",
       "  </thead>\n",
       "  <tbody>\n",
       "    <tr>\n",
       "      <th>1</th>\n",
       "      <td>Basic</td>\n",
       "      <td>10</td>\n",
       "      <td>15-01-22</td>\n",
       "      <td>10-06-23</td>\n",
       "      <td>United States</td>\n",
       "      <td>28</td>\n",
       "      <td>Male</td>\n",
       "      <td>Smartphone</td>\n",
       "      <td>1 Month</td>\n",
       "    </tr>\n",
       "    <tr>\n",
       "      <th>2</th>\n",
       "      <td>Premium</td>\n",
       "      <td>15</td>\n",
       "      <td>05-09-21</td>\n",
       "      <td>22-06-23</td>\n",
       "      <td>Canada</td>\n",
       "      <td>35</td>\n",
       "      <td>Female</td>\n",
       "      <td>Tablet</td>\n",
       "      <td>1 Month</td>\n",
       "    </tr>\n",
       "    <tr>\n",
       "      <th>3</th>\n",
       "      <td>Standard</td>\n",
       "      <td>12</td>\n",
       "      <td>28-02-23</td>\n",
       "      <td>27-06-23</td>\n",
       "      <td>United Kingdom</td>\n",
       "      <td>42</td>\n",
       "      <td>Male</td>\n",
       "      <td>Smart TV</td>\n",
       "      <td>1 Month</td>\n",
       "    </tr>\n",
       "    <tr>\n",
       "      <th>4</th>\n",
       "      <td>Standard</td>\n",
       "      <td>12</td>\n",
       "      <td>10-07-22</td>\n",
       "      <td>26-06-23</td>\n",
       "      <td>Australia</td>\n",
       "      <td>51</td>\n",
       "      <td>Female</td>\n",
       "      <td>Laptop</td>\n",
       "      <td>1 Month</td>\n",
       "    </tr>\n",
       "    <tr>\n",
       "      <th>5</th>\n",
       "      <td>Basic</td>\n",
       "      <td>10</td>\n",
       "      <td>01-05-23</td>\n",
       "      <td>28-06-23</td>\n",
       "      <td>Germany</td>\n",
       "      <td>33</td>\n",
       "      <td>Male</td>\n",
       "      <td>Smartphone</td>\n",
       "      <td>1 Month</td>\n",
       "    </tr>\n",
       "  </tbody>\n",
       "</table>\n",
       "</div>"
      ],
      "text/plain": [
       "        Subscription Type  Monthly Revenue Join Date Last Payment Date  \\\n",
       "User ID                                                                  \n",
       "1                   Basic               10  15-01-22          10-06-23   \n",
       "2                 Premium               15  05-09-21          22-06-23   \n",
       "3                Standard               12  28-02-23          27-06-23   \n",
       "4                Standard               12  10-07-22          26-06-23   \n",
       "5                   Basic               10  01-05-23          28-06-23   \n",
       "\n",
       "                Country  Age  Gender      Device Plan Duration  \n",
       "User ID                                                         \n",
       "1         United States   28    Male  Smartphone       1 Month  \n",
       "2                Canada   35  Female      Tablet       1 Month  \n",
       "3        United Kingdom   42    Male    Smart TV       1 Month  \n",
       "4             Australia   51  Female      Laptop       1 Month  \n",
       "5               Germany   33    Male  Smartphone       1 Month  "
      ]
     },
     "execution_count": 7,
     "metadata": {},
     "output_type": "execute_result"
    }
   ],
   "source": [
    "netflix_users_df.head(5)"
   ]
  },
  {
   "cell_type": "code",
   "execution_count": 7,
   "id": "a6d603c9-aa56-42fd-970c-9e9f6bc8d92a",
   "metadata": {
    "tags": []
   },
   "outputs": [],
   "source": [
    "netflix_movies_df = pd.read_csv('netflixTitles.csv', index_col='show_id')"
   ]
  },
  {
   "cell_type": "code",
   "execution_count": 164,
   "id": "5126282d-4dfe-48cc-bb24-2855e9da105f",
   "metadata": {
    "tags": []
   },
   "outputs": [
    {
     "data": {
      "text/html": [
       "<div>\n",
       "<style scoped>\n",
       "    .dataframe tbody tr th:only-of-type {\n",
       "        vertical-align: middle;\n",
       "    }\n",
       "\n",
       "    .dataframe tbody tr th {\n",
       "        vertical-align: top;\n",
       "    }\n",
       "\n",
       "    .dataframe thead th {\n",
       "        text-align: right;\n",
       "    }\n",
       "</style>\n",
       "<table border=\"1\" class=\"dataframe\">\n",
       "  <thead>\n",
       "    <tr style=\"text-align: right;\">\n",
       "      <th></th>\n",
       "      <th>type</th>\n",
       "      <th>title</th>\n",
       "      <th>director</th>\n",
       "      <th>cast</th>\n",
       "      <th>country</th>\n",
       "      <th>date_added</th>\n",
       "      <th>release_year</th>\n",
       "      <th>rating</th>\n",
       "      <th>duration</th>\n",
       "      <th>listed_in</th>\n",
       "      <th>description</th>\n",
       "    </tr>\n",
       "    <tr>\n",
       "      <th>show_id</th>\n",
       "      <th></th>\n",
       "      <th></th>\n",
       "      <th></th>\n",
       "      <th></th>\n",
       "      <th></th>\n",
       "      <th></th>\n",
       "      <th></th>\n",
       "      <th></th>\n",
       "      <th></th>\n",
       "      <th></th>\n",
       "      <th></th>\n",
       "    </tr>\n",
       "  </thead>\n",
       "  <tbody>\n",
       "    <tr>\n",
       "      <th>s1</th>\n",
       "      <td>Movie</td>\n",
       "      <td>Dick Johnson Is Dead</td>\n",
       "      <td>Kirsten Johnson</td>\n",
       "      <td>NaN</td>\n",
       "      <td>United States</td>\n",
       "      <td>September 25, 2021</td>\n",
       "      <td>2020</td>\n",
       "      <td>PG-13</td>\n",
       "      <td>90 min</td>\n",
       "      <td>Documentaries</td>\n",
       "      <td>As her father nears the end of his life, filmm...</td>\n",
       "    </tr>\n",
       "    <tr>\n",
       "      <th>s2</th>\n",
       "      <td>TV Show</td>\n",
       "      <td>Blood &amp; Water</td>\n",
       "      <td>NaN</td>\n",
       "      <td>Ama Qamata, Khosi Ngema, Gail Mabalane, Thaban...</td>\n",
       "      <td>South Africa</td>\n",
       "      <td>September 24, 2021</td>\n",
       "      <td>2021</td>\n",
       "      <td>TV-MA</td>\n",
       "      <td>2 Seasons</td>\n",
       "      <td>International TV Shows, TV Dramas, TV Mysteries</td>\n",
       "      <td>After crossing paths at a party, a Cape Town t...</td>\n",
       "    </tr>\n",
       "    <tr>\n",
       "      <th>s3</th>\n",
       "      <td>TV Show</td>\n",
       "      <td>Ganglands</td>\n",
       "      <td>Julien Leclercq</td>\n",
       "      <td>Sami Bouajila, Tracy Gotoas, Samuel Jouy, Nabi...</td>\n",
       "      <td>NaN</td>\n",
       "      <td>September 24, 2021</td>\n",
       "      <td>2021</td>\n",
       "      <td>TV-MA</td>\n",
       "      <td>1 Season</td>\n",
       "      <td>Crime TV Shows, International TV Shows, TV Act...</td>\n",
       "      <td>To protect his family from a powerful drug lor...</td>\n",
       "    </tr>\n",
       "    <tr>\n",
       "      <th>s4</th>\n",
       "      <td>TV Show</td>\n",
       "      <td>Jailbirds New Orleans</td>\n",
       "      <td>NaN</td>\n",
       "      <td>NaN</td>\n",
       "      <td>NaN</td>\n",
       "      <td>September 24, 2021</td>\n",
       "      <td>2021</td>\n",
       "      <td>TV-MA</td>\n",
       "      <td>1 Season</td>\n",
       "      <td>Docuseries, Reality TV</td>\n",
       "      <td>Feuds, flirtations and toilet talk go down amo...</td>\n",
       "    </tr>\n",
       "    <tr>\n",
       "      <th>s5</th>\n",
       "      <td>TV Show</td>\n",
       "      <td>Kota Factory</td>\n",
       "      <td>NaN</td>\n",
       "      <td>Mayur More, Jitendra Kumar, Ranjan Raj, Alam K...</td>\n",
       "      <td>India</td>\n",
       "      <td>September 24, 2021</td>\n",
       "      <td>2021</td>\n",
       "      <td>TV-MA</td>\n",
       "      <td>2 Seasons</td>\n",
       "      <td>International TV Shows, Romantic TV Shows, TV ...</td>\n",
       "      <td>In a city of coaching centers known to train I...</td>\n",
       "    </tr>\n",
       "  </tbody>\n",
       "</table>\n",
       "</div>"
      ],
      "text/plain": [
       "            type                  title         director  \\\n",
       "show_id                                                    \n",
       "s1         Movie   Dick Johnson Is Dead  Kirsten Johnson   \n",
       "s2       TV Show          Blood & Water              NaN   \n",
       "s3       TV Show              Ganglands  Julien Leclercq   \n",
       "s4       TV Show  Jailbirds New Orleans              NaN   \n",
       "s5       TV Show           Kota Factory              NaN   \n",
       "\n",
       "                                                      cast        country  \\\n",
       "show_id                                                                     \n",
       "s1                                                     NaN  United States   \n",
       "s2       Ama Qamata, Khosi Ngema, Gail Mabalane, Thaban...   South Africa   \n",
       "s3       Sami Bouajila, Tracy Gotoas, Samuel Jouy, Nabi...            NaN   \n",
       "s4                                                     NaN            NaN   \n",
       "s5       Mayur More, Jitendra Kumar, Ranjan Raj, Alam K...          India   \n",
       "\n",
       "                 date_added  release_year rating   duration  \\\n",
       "show_id                                                       \n",
       "s1       September 25, 2021          2020  PG-13     90 min   \n",
       "s2       September 24, 2021          2021  TV-MA  2 Seasons   \n",
       "s3       September 24, 2021          2021  TV-MA   1 Season   \n",
       "s4       September 24, 2021          2021  TV-MA   1 Season   \n",
       "s5       September 24, 2021          2021  TV-MA  2 Seasons   \n",
       "\n",
       "                                                 listed_in  \\\n",
       "show_id                                                      \n",
       "s1                                           Documentaries   \n",
       "s2         International TV Shows, TV Dramas, TV Mysteries   \n",
       "s3       Crime TV Shows, International TV Shows, TV Act...   \n",
       "s4                                  Docuseries, Reality TV   \n",
       "s5       International TV Shows, Romantic TV Shows, TV ...   \n",
       "\n",
       "                                               description  \n",
       "show_id                                                     \n",
       "s1       As her father nears the end of his life, filmm...  \n",
       "s2       After crossing paths at a party, a Cape Town t...  \n",
       "s3       To protect his family from a powerful drug lor...  \n",
       "s4       Feuds, flirtations and toilet talk go down amo...  \n",
       "s5       In a city of coaching centers known to train I...  "
      ]
     },
     "execution_count": 164,
     "metadata": {},
     "output_type": "execute_result"
    }
   ],
   "source": [
    "netflix_movies_df.head(5)"
   ]
  },
  {
   "cell_type": "markdown",
   "id": "f13d4ae6-d378-4827-b87e-a88e54f22e72",
   "metadata": {},
   "source": [
    "<div class='alert alert-block alert-success'>\n",
    "    <b>Success</b>: This box indicates a successful action.\n"
   ]
  },
  {
   "cell_type": "markdown",
   "id": "924962f6-d70e-46e4-b129-842c5a8804a3",
   "metadata": {},
   "source": [
    "![green-divider](https://user-images.githubusercontent.com/7065401/52071924-c003ad80-2562-11e9-8297-1c6595f8a7ff.png)\n",
    "\n",
    "\n"
   ]
  },
  {
   "cell_type": "markdown",
   "id": "ad650d3c-0f9b-43ed-b065-6154101fe280",
   "metadata": {},
   "source": [
    "### Overview of Dataset"
   ]
  },
  {
   "cell_type": "markdown",
   "id": "76ed1ec2-15fd-4a21-a589-97921330416e",
   "metadata": {},
   "source": [
    "netflix_users"
   ]
  },
  {
   "cell_type": "code",
   "execution_count": 91,
   "id": "2e8a4397-28ec-4c10-8a6a-1d35ef9aa0b6",
   "metadata": {
    "tags": []
   },
   "outputs": [
    {
     "data": {
      "text/plain": [
       "0"
      ]
     },
     "execution_count": 91,
     "metadata": {},
     "output_type": "execute_result"
    }
   ],
   "source": [
    "duplicate_count = netflix_users_df.duplicated(keep=False).sum()\n",
    "duplicate_count"
   ]
  },
  {
   "cell_type": "code",
   "execution_count": 34,
   "id": "c2d3d0b9-e3e2-424a-af6c-129994d58024",
   "metadata": {
    "tags": []
   },
   "outputs": [
    {
     "name": "stdout",
     "output_type": "stream",
     "text": [
      "<class 'pandas.core.frame.DataFrame'>\n",
      "Index: 2500 entries, 1 to 2500\n",
      "Data columns (total 9 columns):\n",
      " #   Column             Non-Null Count  Dtype \n",
      "---  ------             --------------  ----- \n",
      " 0   Subscription Type  2500 non-null   object\n",
      " 1   Monthly Revenue    2500 non-null   int64 \n",
      " 2   Join Date          2500 non-null   object\n",
      " 3   Last Payment Date  2500 non-null   object\n",
      " 4   Country            2500 non-null   object\n",
      " 5   Age                2500 non-null   int64 \n",
      " 6   Gender             2500 non-null   object\n",
      " 7   Device             2500 non-null   object\n",
      " 8   Plan Duration      2500 non-null   object\n",
      "dtypes: int64(2), object(7)\n",
      "memory usage: 195.3+ KB\n"
     ]
    },
    {
     "data": {
      "text/html": [
       "<div>\n",
       "<style scoped>\n",
       "    .dataframe tbody tr th:only-of-type {\n",
       "        vertical-align: middle;\n",
       "    }\n",
       "\n",
       "    .dataframe tbody tr th {\n",
       "        vertical-align: top;\n",
       "    }\n",
       "\n",
       "    .dataframe thead th {\n",
       "        text-align: right;\n",
       "    }\n",
       "</style>\n",
       "<table border=\"1\" class=\"dataframe\">\n",
       "  <thead>\n",
       "    <tr style=\"text-align: right;\">\n",
       "      <th></th>\n",
       "      <th>Monthly Revenue</th>\n",
       "      <th>Age</th>\n",
       "    </tr>\n",
       "  </thead>\n",
       "  <tbody>\n",
       "    <tr>\n",
       "      <th>count</th>\n",
       "      <td>2500.000000</td>\n",
       "      <td>2500.000000</td>\n",
       "    </tr>\n",
       "    <tr>\n",
       "      <th>mean</th>\n",
       "      <td>12.508400</td>\n",
       "      <td>38.795600</td>\n",
       "    </tr>\n",
       "    <tr>\n",
       "      <th>std</th>\n",
       "      <td>1.686851</td>\n",
       "      <td>7.171778</td>\n",
       "    </tr>\n",
       "    <tr>\n",
       "      <th>min</th>\n",
       "      <td>10.000000</td>\n",
       "      <td>26.000000</td>\n",
       "    </tr>\n",
       "    <tr>\n",
       "      <th>25%</th>\n",
       "      <td>11.000000</td>\n",
       "      <td>32.000000</td>\n",
       "    </tr>\n",
       "    <tr>\n",
       "      <th>50%</th>\n",
       "      <td>12.000000</td>\n",
       "      <td>39.000000</td>\n",
       "    </tr>\n",
       "    <tr>\n",
       "      <th>75%</th>\n",
       "      <td>14.000000</td>\n",
       "      <td>45.000000</td>\n",
       "    </tr>\n",
       "    <tr>\n",
       "      <th>max</th>\n",
       "      <td>15.000000</td>\n",
       "      <td>51.000000</td>\n",
       "    </tr>\n",
       "  </tbody>\n",
       "</table>\n",
       "</div>"
      ],
      "text/plain": [
       "       Monthly Revenue          Age\n",
       "count      2500.000000  2500.000000\n",
       "mean         12.508400    38.795600\n",
       "std           1.686851     7.171778\n",
       "min          10.000000    26.000000\n",
       "25%          11.000000    32.000000\n",
       "50%          12.000000    39.000000\n",
       "75%          14.000000    45.000000\n",
       "max          15.000000    51.000000"
      ]
     },
     "execution_count": 34,
     "metadata": {},
     "output_type": "execute_result"
    }
   ],
   "source": [
    "netflix_users_df.info()\n",
    "netflix_users_df.describe()"
   ]
  },
  {
   "cell_type": "markdown",
   "id": "af240c39-a7f8-41d2-8b0a-46bcb9064cee",
   "metadata": {},
   "source": [
    "![green-divider](https://user-images.githubusercontent.com/7065401/52071924-c003ad80-2562-11e9-8297-1c6595f8a7ff.png)"
   ]
  },
  {
   "cell_type": "markdown",
   "id": "b5f9ca6f-fe8a-4374-be71-2440acfe6151",
   "metadata": {
    "tags": []
   },
   "source": [
    "### Correcting Data type of Users Data**"
   ]
  },
  {
   "cell_type": "code",
   "execution_count": 9,
   "id": "76fd6064-c5b5-4ba4-be7e-9eb62364c063",
   "metadata": {
    "tags": []
   },
   "outputs": [],
   "source": [
    "netflix_users_df['Join Date'] = pd.to_datetime(netflix_users_df['Join Date'], format='%d-%m-%y', errors='coerce')\n",
    "netflix_users_df['Last Payment Date'] = pd.to_datetime(netflix_users_df['Last Payment Date'], format='%d-%m-%y', errors='coerce')"
   ]
  },
  {
   "cell_type": "code",
   "execution_count": 11,
   "id": "cae7268b-e147-4f29-8791-ac0cab1a5e1c",
   "metadata": {
    "tags": []
   },
   "outputs": [
    {
     "data": {
      "text/html": [
       "<div>\n",
       "<style scoped>\n",
       "    .dataframe tbody tr th:only-of-type {\n",
       "        vertical-align: middle;\n",
       "    }\n",
       "\n",
       "    .dataframe tbody tr th {\n",
       "        vertical-align: top;\n",
       "    }\n",
       "\n",
       "    .dataframe thead th {\n",
       "        text-align: right;\n",
       "    }\n",
       "</style>\n",
       "<table border=\"1\" class=\"dataframe\">\n",
       "  <thead>\n",
       "    <tr style=\"text-align: right;\">\n",
       "      <th></th>\n",
       "      <th>Subscription Type</th>\n",
       "      <th>Monthly Revenue</th>\n",
       "      <th>Join Date</th>\n",
       "      <th>Last Payment Date</th>\n",
       "      <th>Country</th>\n",
       "      <th>Age</th>\n",
       "      <th>Gender</th>\n",
       "      <th>Device</th>\n",
       "      <th>Plan Duration</th>\n",
       "    </tr>\n",
       "    <tr>\n",
       "      <th>User ID</th>\n",
       "      <th></th>\n",
       "      <th></th>\n",
       "      <th></th>\n",
       "      <th></th>\n",
       "      <th></th>\n",
       "      <th></th>\n",
       "      <th></th>\n",
       "      <th></th>\n",
       "      <th></th>\n",
       "    </tr>\n",
       "  </thead>\n",
       "  <tbody>\n",
       "    <tr>\n",
       "      <th>1</th>\n",
       "      <td>Basic</td>\n",
       "      <td>10</td>\n",
       "      <td>2022-01-15</td>\n",
       "      <td>2023-06-10</td>\n",
       "      <td>United States</td>\n",
       "      <td>28</td>\n",
       "      <td>Male</td>\n",
       "      <td>Smartphone</td>\n",
       "      <td>1 Month</td>\n",
       "    </tr>\n",
       "    <tr>\n",
       "      <th>2</th>\n",
       "      <td>Premium</td>\n",
       "      <td>15</td>\n",
       "      <td>2021-09-05</td>\n",
       "      <td>2023-06-22</td>\n",
       "      <td>Canada</td>\n",
       "      <td>35</td>\n",
       "      <td>Female</td>\n",
       "      <td>Tablet</td>\n",
       "      <td>1 Month</td>\n",
       "    </tr>\n",
       "  </tbody>\n",
       "</table>\n",
       "</div>"
      ],
      "text/plain": [
       "        Subscription Type  Monthly Revenue  Join Date Last Payment Date  \\\n",
       "User ID                                                                   \n",
       "1                   Basic               10 2022-01-15        2023-06-10   \n",
       "2                 Premium               15 2021-09-05        2023-06-22   \n",
       "\n",
       "               Country  Age  Gender      Device Plan Duration  \n",
       "User ID                                                        \n",
       "1        United States   28    Male  Smartphone       1 Month  \n",
       "2               Canada   35  Female      Tablet       1 Month  "
      ]
     },
     "execution_count": 11,
     "metadata": {},
     "output_type": "execute_result"
    }
   ],
   "source": [
    "netflix_users_df.head(2)"
   ]
  },
  {
   "cell_type": "markdown",
   "id": "be49b725-96f0-4c47-bd89-d73150a26540",
   "metadata": {},
   "source": [
    "**This dataset seems ok!, because no empty rows, Dtype is right now, age max min is not outliers, will make box pplot for verification**"
   ]
  },
  {
   "cell_type": "markdown",
   "id": "ece8dd18-487a-4ebb-bdef-1d12c79465ce",
   "metadata": {},
   "source": [
    "![green-divider](https://user-images.githubusercontent.com/7065401/52071924-c003ad80-2562-11e9-8297-1c6595f8a7ff.png)"
   ]
  },
  {
   "cell_type": "markdown",
   "id": "8a49b45d-0e14-49d4-8677-d9456e1dfde8",
   "metadata": {},
   "source": [
    "netflix_movies"
   ]
  },
  {
   "cell_type": "code",
   "execution_count": 99,
   "id": "57c77d73-2ce1-455d-aa05-288ed4d62223",
   "metadata": {
    "tags": []
   },
   "outputs": [
    {
     "data": {
      "text/plain": [
       "0"
      ]
     },
     "execution_count": 99,
     "metadata": {},
     "output_type": "execute_result"
    }
   ],
   "source": [
    "duplicate_count = netflix_movies_df.duplicated(keep = False).sum()\n",
    "duplicate_count"
   ]
  },
  {
   "cell_type": "code",
   "execution_count": 36,
   "id": "8ba263bd-056f-4a1b-a42c-f146c0b1e999",
   "metadata": {
    "tags": []
   },
   "outputs": [
    {
     "name": "stdout",
     "output_type": "stream",
     "text": [
      "<class 'pandas.core.frame.DataFrame'>\n",
      "Index: 8807 entries, s1 to s8807\n",
      "Data columns (total 11 columns):\n",
      " #   Column        Non-Null Count  Dtype \n",
      "---  ------        --------------  ----- \n",
      " 0   type          8807 non-null   object\n",
      " 1   title         8807 non-null   object\n",
      " 2   director      6173 non-null   object\n",
      " 3   cast          7982 non-null   object\n",
      " 4   country       7976 non-null   object\n",
      " 5   date_added    8797 non-null   object\n",
      " 6   release_year  8807 non-null   int64 \n",
      " 7   rating        8803 non-null   object\n",
      " 8   duration      8804 non-null   object\n",
      " 9   listed_in     8807 non-null   object\n",
      " 10  description   8807 non-null   object\n",
      "dtypes: int64(1), object(10)\n",
      "memory usage: 825.7+ KB\n"
     ]
    },
    {
     "data": {
      "text/html": [
       "<div>\n",
       "<style scoped>\n",
       "    .dataframe tbody tr th:only-of-type {\n",
       "        vertical-align: middle;\n",
       "    }\n",
       "\n",
       "    .dataframe tbody tr th {\n",
       "        vertical-align: top;\n",
       "    }\n",
       "\n",
       "    .dataframe thead th {\n",
       "        text-align: right;\n",
       "    }\n",
       "</style>\n",
       "<table border=\"1\" class=\"dataframe\">\n",
       "  <thead>\n",
       "    <tr style=\"text-align: right;\">\n",
       "      <th></th>\n",
       "      <th>release_year</th>\n",
       "    </tr>\n",
       "  </thead>\n",
       "  <tbody>\n",
       "    <tr>\n",
       "      <th>count</th>\n",
       "      <td>8807.000000</td>\n",
       "    </tr>\n",
       "    <tr>\n",
       "      <th>mean</th>\n",
       "      <td>2014.180198</td>\n",
       "    </tr>\n",
       "    <tr>\n",
       "      <th>std</th>\n",
       "      <td>8.819312</td>\n",
       "    </tr>\n",
       "    <tr>\n",
       "      <th>min</th>\n",
       "      <td>1925.000000</td>\n",
       "    </tr>\n",
       "    <tr>\n",
       "      <th>25%</th>\n",
       "      <td>2013.000000</td>\n",
       "    </tr>\n",
       "    <tr>\n",
       "      <th>50%</th>\n",
       "      <td>2017.000000</td>\n",
       "    </tr>\n",
       "    <tr>\n",
       "      <th>75%</th>\n",
       "      <td>2019.000000</td>\n",
       "    </tr>\n",
       "    <tr>\n",
       "      <th>max</th>\n",
       "      <td>2021.000000</td>\n",
       "    </tr>\n",
       "  </tbody>\n",
       "</table>\n",
       "</div>"
      ],
      "text/plain": [
       "       release_year\n",
       "count   8807.000000\n",
       "mean    2014.180198\n",
       "std        8.819312\n",
       "min     1925.000000\n",
       "25%     2013.000000\n",
       "50%     2017.000000\n",
       "75%     2019.000000\n",
       "max     2021.000000"
      ]
     },
     "execution_count": 36,
     "metadata": {},
     "output_type": "execute_result"
    }
   ],
   "source": [
    "netflix_movies_df.info()\n",
    "netflix_movies_df.describe()"
   ]
  },
  {
   "cell_type": "markdown",
   "id": "e3abbbd8-ceb0-4454-82a9-a2527c98a48d",
   "metadata": {},
   "source": [
    "## Data Issues and Handling Strategies\n",
    "\n",
    "### 1. Empty Rows of Textual Data\n",
    "- **Issues**: Columns like `director` and `country` have many missing values.\n",
    "- **Strategy**: fill this values with strings like 'not added'\n",
    "\n",
    "### 2. Missing Values in Textual Data Columns\n",
    "- **Issues**: Columns like `rating` and `duration` have some missing values.\n",
    "- **Strategy**: \n",
    "  - **Rating**: Fill with the most frequent value or 'Unknown'.\n",
    "  - **Duration**: Impute with the average duration for movies and TV shows.\n",
    "\n",
    "### 3. Release Year as Date Type\n",
    "- **Issues**: release_year, 'date added', 'releae_date' is not in date format.\n",
    "- **Strategy**: Convert to datetime format for better chronological analysis.\n",
    "\n",
    "### Next Steps\n",
    "1. **Identify Missing Values**: Quantify missing values in each column.\n",
    "2. **Implement Strategies**: Apply handling strategies and convert data types.\n",
    "3. **Verify Data Integrity**: Ensure data cleaning maintains data relevance."
   ]
  },
  {
   "cell_type": "markdown",
   "id": "1fed42db-fafd-4cd7-9364-5d6e6607f911",
   "metadata": {
    "tags": []
   },
   "source": [
    "![green-divider](https://user-images.githubusercontent.com/7065401/52071924-c003ad80-2562-11e9-8297-1c6595f8a7ff.png)"
   ]
  },
  {
   "cell_type": "markdown",
   "id": "ec72f007-a2ae-492e-8d40-b1c641d65d62",
   "metadata": {
    "tags": []
   },
   "source": [
    "### **Identify Missing Values**:"
   ]
  },
  {
   "cell_type": "code",
   "execution_count": 47,
   "id": "10a49a84-4d21-431c-9e75-226e69be4e36",
   "metadata": {
    "tags": []
   },
   "outputs": [
    {
     "data": {
      "text/html": [
       "<div>\n",
       "<style scoped>\n",
       "    .dataframe tbody tr th:only-of-type {\n",
       "        vertical-align: middle;\n",
       "    }\n",
       "\n",
       "    .dataframe tbody tr th {\n",
       "        vertical-align: top;\n",
       "    }\n",
       "\n",
       "    .dataframe thead th {\n",
       "        text-align: right;\n",
       "    }\n",
       "</style>\n",
       "<table border=\"1\" class=\"dataframe\">\n",
       "  <thead>\n",
       "    <tr style=\"text-align: right;\">\n",
       "      <th></th>\n",
       "      <th>type</th>\n",
       "      <th>title</th>\n",
       "      <th>director</th>\n",
       "      <th>cast</th>\n",
       "      <th>country</th>\n",
       "      <th>date_added</th>\n",
       "      <th>release_year</th>\n",
       "      <th>rating</th>\n",
       "      <th>duration</th>\n",
       "      <th>listed_in</th>\n",
       "      <th>description</th>\n",
       "    </tr>\n",
       "    <tr>\n",
       "      <th>show_id</th>\n",
       "      <th></th>\n",
       "      <th></th>\n",
       "      <th></th>\n",
       "      <th></th>\n",
       "      <th></th>\n",
       "      <th></th>\n",
       "      <th></th>\n",
       "      <th></th>\n",
       "      <th></th>\n",
       "      <th></th>\n",
       "      <th></th>\n",
       "    </tr>\n",
       "  </thead>\n",
       "  <tbody>\n",
       "    <tr>\n",
       "      <th>s5990</th>\n",
       "      <td>Movie</td>\n",
       "      <td>13TH: A Conversation with Oprah Winfrey &amp; Ava ...</td>\n",
       "      <td>NaN</td>\n",
       "      <td>Oprah Winfrey, Ava DuVernay</td>\n",
       "      <td>NaN</td>\n",
       "      <td>January 26, 2017</td>\n",
       "      <td>2017</td>\n",
       "      <td>NaN</td>\n",
       "      <td>37 min</td>\n",
       "      <td>Movies</td>\n",
       "      <td>Oprah Winfrey sits down with director Ava DuVe...</td>\n",
       "    </tr>\n",
       "    <tr>\n",
       "      <th>s6828</th>\n",
       "      <td>TV Show</td>\n",
       "      <td>Gargantia on the Verdurous Planet</td>\n",
       "      <td>NaN</td>\n",
       "      <td>Kaito Ishikawa, Hisako Kanemoto, Ai Kayano, Ka...</td>\n",
       "      <td>Japan</td>\n",
       "      <td>December 1, 2016</td>\n",
       "      <td>2013</td>\n",
       "      <td>NaN</td>\n",
       "      <td>1 Season</td>\n",
       "      <td>Anime Series, International TV Shows</td>\n",
       "      <td>After falling through a wormhole, a space-dwel...</td>\n",
       "    </tr>\n",
       "    <tr>\n",
       "      <th>s7313</th>\n",
       "      <td>TV Show</td>\n",
       "      <td>Little Lunch</td>\n",
       "      <td>NaN</td>\n",
       "      <td>Flynn Curry, Olivia Deeble, Madison Lu, Oisín ...</td>\n",
       "      <td>Australia</td>\n",
       "      <td>February 1, 2018</td>\n",
       "      <td>2015</td>\n",
       "      <td>NaN</td>\n",
       "      <td>1 Season</td>\n",
       "      <td>Kids' TV, TV Comedies</td>\n",
       "      <td>Adopting a child's perspective, this show take...</td>\n",
       "    </tr>\n",
       "    <tr>\n",
       "      <th>s7538</th>\n",
       "      <td>Movie</td>\n",
       "      <td>My Honor Was Loyalty</td>\n",
       "      <td>Alessandro Pepe</td>\n",
       "      <td>Leone Frisa, Paolo Vaccarino, Francesco Miglio...</td>\n",
       "      <td>Italy</td>\n",
       "      <td>March 1, 2017</td>\n",
       "      <td>2015</td>\n",
       "      <td>NaN</td>\n",
       "      <td>115 min</td>\n",
       "      <td>Dramas</td>\n",
       "      <td>Amid the chaos and horror of World War II, a c...</td>\n",
       "    </tr>\n",
       "  </tbody>\n",
       "</table>\n",
       "</div>"
      ],
      "text/plain": [
       "            type                                              title  \\\n",
       "show_id                                                               \n",
       "s5990      Movie  13TH: A Conversation with Oprah Winfrey & Ava ...   \n",
       "s6828    TV Show                  Gargantia on the Verdurous Planet   \n",
       "s7313    TV Show                                       Little Lunch   \n",
       "s7538      Movie                               My Honor Was Loyalty   \n",
       "\n",
       "                director                                               cast  \\\n",
       "show_id                                                                       \n",
       "s5990                NaN                        Oprah Winfrey, Ava DuVernay   \n",
       "s6828                NaN  Kaito Ishikawa, Hisako Kanemoto, Ai Kayano, Ka...   \n",
       "s7313                NaN  Flynn Curry, Olivia Deeble, Madison Lu, Oisín ...   \n",
       "s7538    Alessandro Pepe  Leone Frisa, Paolo Vaccarino, Francesco Miglio...   \n",
       "\n",
       "           country        date_added  release_year rating  duration  \\\n",
       "show_id                                                               \n",
       "s5990          NaN  January 26, 2017          2017    NaN    37 min   \n",
       "s6828        Japan  December 1, 2016          2013    NaN  1 Season   \n",
       "s7313    Australia  February 1, 2018          2015    NaN  1 Season   \n",
       "s7538        Italy     March 1, 2017          2015    NaN   115 min   \n",
       "\n",
       "                                    listed_in  \\\n",
       "show_id                                         \n",
       "s5990                                  Movies   \n",
       "s6828    Anime Series, International TV Shows   \n",
       "s7313                   Kids' TV, TV Comedies   \n",
       "s7538                                  Dramas   \n",
       "\n",
       "                                               description  \n",
       "show_id                                                     \n",
       "s5990    Oprah Winfrey sits down with director Ava DuVe...  \n",
       "s6828    After falling through a wormhole, a space-dwel...  \n",
       "s7313    Adopting a child's perspective, this show take...  \n",
       "s7538    Amid the chaos and horror of World War II, a c...  "
      ]
     },
     "execution_count": 47,
     "metadata": {},
     "output_type": "execute_result"
    }
   ],
   "source": [
    "netflix_movies_df[netflix_movies_df['rating'].isna()]"
   ]
  },
  {
   "cell_type": "code",
   "execution_count": 53,
   "id": "f9797fd7-ef28-4632-b774-272212db3e1a",
   "metadata": {
    "tags": []
   },
   "outputs": [
    {
     "data": {
      "text/html": [
       "<div>\n",
       "<style scoped>\n",
       "    .dataframe tbody tr th:only-of-type {\n",
       "        vertical-align: middle;\n",
       "    }\n",
       "\n",
       "    .dataframe tbody tr th {\n",
       "        vertical-align: top;\n",
       "    }\n",
       "\n",
       "    .dataframe thead th {\n",
       "        text-align: right;\n",
       "    }\n",
       "</style>\n",
       "<table border=\"1\" class=\"dataframe\">\n",
       "  <thead>\n",
       "    <tr style=\"text-align: right;\">\n",
       "      <th></th>\n",
       "      <th>type</th>\n",
       "      <th>title</th>\n",
       "      <th>director</th>\n",
       "      <th>cast</th>\n",
       "      <th>country</th>\n",
       "      <th>date_added</th>\n",
       "      <th>release_year</th>\n",
       "      <th>rating</th>\n",
       "      <th>duration</th>\n",
       "      <th>listed_in</th>\n",
       "      <th>description</th>\n",
       "    </tr>\n",
       "    <tr>\n",
       "      <th>show_id</th>\n",
       "      <th></th>\n",
       "      <th></th>\n",
       "      <th></th>\n",
       "      <th></th>\n",
       "      <th></th>\n",
       "      <th></th>\n",
       "      <th></th>\n",
       "      <th></th>\n",
       "      <th></th>\n",
       "      <th></th>\n",
       "      <th></th>\n",
       "    </tr>\n",
       "  </thead>\n",
       "  <tbody>\n",
       "    <tr>\n",
       "      <th>s5542</th>\n",
       "      <td>Movie</td>\n",
       "      <td>Louis C.K. 2017</td>\n",
       "      <td>Louis C.K.</td>\n",
       "      <td>Louis C.K.</td>\n",
       "      <td>United States</td>\n",
       "      <td>April 4, 2017</td>\n",
       "      <td>2017</td>\n",
       "      <td>74 min</td>\n",
       "      <td>NaN</td>\n",
       "      <td>Movies</td>\n",
       "      <td>Louis C.K. muses on religion, eternal love, gi...</td>\n",
       "    </tr>\n",
       "    <tr>\n",
       "      <th>s5795</th>\n",
       "      <td>Movie</td>\n",
       "      <td>Louis C.K.: Hilarious</td>\n",
       "      <td>Louis C.K.</td>\n",
       "      <td>Louis C.K.</td>\n",
       "      <td>United States</td>\n",
       "      <td>September 16, 2016</td>\n",
       "      <td>2010</td>\n",
       "      <td>84 min</td>\n",
       "      <td>NaN</td>\n",
       "      <td>Movies</td>\n",
       "      <td>Emmy-winning comedy writer Louis C.K. brings h...</td>\n",
       "    </tr>\n",
       "    <tr>\n",
       "      <th>s5814</th>\n",
       "      <td>Movie</td>\n",
       "      <td>Louis C.K.: Live at the Comedy Store</td>\n",
       "      <td>Louis C.K.</td>\n",
       "      <td>Louis C.K.</td>\n",
       "      <td>United States</td>\n",
       "      <td>August 15, 2016</td>\n",
       "      <td>2015</td>\n",
       "      <td>66 min</td>\n",
       "      <td>NaN</td>\n",
       "      <td>Movies</td>\n",
       "      <td>The comic puts his trademark hilarious/thought...</td>\n",
       "    </tr>\n",
       "  </tbody>\n",
       "</table>\n",
       "</div>"
      ],
      "text/plain": [
       "          type                                 title    director        cast  \\\n",
       "show_id                                                                        \n",
       "s5542    Movie                       Louis C.K. 2017  Louis C.K.  Louis C.K.   \n",
       "s5795    Movie                 Louis C.K.: Hilarious  Louis C.K.  Louis C.K.   \n",
       "s5814    Movie  Louis C.K.: Live at the Comedy Store  Louis C.K.  Louis C.K.   \n",
       "\n",
       "               country          date_added  release_year  rating duration  \\\n",
       "show_id                                                                     \n",
       "s5542    United States       April 4, 2017          2017  74 min      NaN   \n",
       "s5795    United States  September 16, 2016          2010  84 min      NaN   \n",
       "s5814    United States     August 15, 2016          2015  66 min      NaN   \n",
       "\n",
       "        listed_in                                        description  \n",
       "show_id                                                               \n",
       "s5542      Movies  Louis C.K. muses on religion, eternal love, gi...  \n",
       "s5795      Movies  Emmy-winning comedy writer Louis C.K. brings h...  \n",
       "s5814      Movies  The comic puts his trademark hilarious/thought...  "
      ]
     },
     "execution_count": 53,
     "metadata": {},
     "output_type": "execute_result"
    }
   ],
   "source": [
    "netflix_movies_df[netflix_movies_df['duration'].isna()]"
   ]
  },
  {
   "cell_type": "markdown",
   "id": "89fc66ce-cb14-49f6-acdc-3e539e1271ad",
   "metadata": {},
   "source": [
    "#### NOTE: while indentifying\n",
    "> we come to figure that where duration is null in this records human error exists because instead of adding duration, mistenkly\n",
    "added in the rating with date of duration"
   ]
  },
  {
   "cell_type": "markdown",
   "id": "b2570d3c-da05-42c3-8b09-d18e53b43949",
   "metadata": {},
   "source": [
    "![green-divider](https://user-images.githubusercontent.com/7065401/52071924-c003ad80-2562-11e9-8297-1c6595f8a7ff.png)"
   ]
  },
  {
   "cell_type": "markdown",
   "id": "240938f6-2300-4b09-9563-041a966bc324",
   "metadata": {},
   "source": [
    "### Handling Missing Values"
   ]
  },
  {
   "cell_type": "code",
   "execution_count": 13,
   "id": "58912a35-8bce-4bac-8158-26c9e67d9864",
   "metadata": {
    "tags": []
   },
   "outputs": [],
   "source": [
    "missing_duration_mask = netflix_movies_df['duration'].isna()\n",
    "\n",
    "netflix_movies_df.loc[missing_duration_mask, 'duration'] = netflix_movies_df.loc[missing_duration_mask, 'rating']"
   ]
  },
  {
   "cell_type": "code",
   "execution_count": 15,
   "id": "be650056-aae2-44d0-ba06-dc9e87297116",
   "metadata": {
    "tags": []
   },
   "outputs": [
    {
     "data": {
      "text/plain": [
       "show_id\n",
       "s5542    True\n",
       "s5795    True\n",
       "s5814    True\n",
       "Name: duration, dtype: bool"
      ]
     },
     "execution_count": 15,
     "metadata": {},
     "output_type": "execute_result"
    }
   ],
   "source": [
    "missing_duration_mask[missing_duration_mask]"
   ]
  },
  {
   "cell_type": "code",
   "execution_count": 17,
   "id": "c738f40e-aa64-4a92-a52c-8e182a450258",
   "metadata": {
    "tags": []
   },
   "outputs": [],
   "source": [
    "netflix_movies_df.loc[missing_duration_mask, 'rating'] = np.nan"
   ]
  },
  {
   "cell_type": "code",
   "execution_count": 19,
   "id": "f90cba7e-94c1-4759-8550-264ab9147117",
   "metadata": {
    "tags": []
   },
   "outputs": [
    {
     "data": {
      "text/html": [
       "<div>\n",
       "<style scoped>\n",
       "    .dataframe tbody tr th:only-of-type {\n",
       "        vertical-align: middle;\n",
       "    }\n",
       "\n",
       "    .dataframe tbody tr th {\n",
       "        vertical-align: top;\n",
       "    }\n",
       "\n",
       "    .dataframe thead th {\n",
       "        text-align: right;\n",
       "    }\n",
       "</style>\n",
       "<table border=\"1\" class=\"dataframe\">\n",
       "  <thead>\n",
       "    <tr style=\"text-align: right;\">\n",
       "      <th></th>\n",
       "      <th>type</th>\n",
       "      <th>title</th>\n",
       "      <th>director</th>\n",
       "      <th>cast</th>\n",
       "      <th>country</th>\n",
       "      <th>date_added</th>\n",
       "      <th>release_year</th>\n",
       "      <th>rating</th>\n",
       "      <th>duration</th>\n",
       "      <th>listed_in</th>\n",
       "      <th>description</th>\n",
       "    </tr>\n",
       "    <tr>\n",
       "      <th>show_id</th>\n",
       "      <th></th>\n",
       "      <th></th>\n",
       "      <th></th>\n",
       "      <th></th>\n",
       "      <th></th>\n",
       "      <th></th>\n",
       "      <th></th>\n",
       "      <th></th>\n",
       "      <th></th>\n",
       "      <th></th>\n",
       "      <th></th>\n",
       "    </tr>\n",
       "  </thead>\n",
       "  <tbody>\n",
       "    <tr>\n",
       "      <th>s5542</th>\n",
       "      <td>Movie</td>\n",
       "      <td>Louis C.K. 2017</td>\n",
       "      <td>Louis C.K.</td>\n",
       "      <td>Louis C.K.</td>\n",
       "      <td>United States</td>\n",
       "      <td>April 4, 2017</td>\n",
       "      <td>2017</td>\n",
       "      <td>NaN</td>\n",
       "      <td>74 min</td>\n",
       "      <td>Movies</td>\n",
       "      <td>Louis C.K. muses on religion, eternal love, gi...</td>\n",
       "    </tr>\n",
       "    <tr>\n",
       "      <th>s5795</th>\n",
       "      <td>Movie</td>\n",
       "      <td>Louis C.K.: Hilarious</td>\n",
       "      <td>Louis C.K.</td>\n",
       "      <td>Louis C.K.</td>\n",
       "      <td>United States</td>\n",
       "      <td>September 16, 2016</td>\n",
       "      <td>2010</td>\n",
       "      <td>NaN</td>\n",
       "      <td>84 min</td>\n",
       "      <td>Movies</td>\n",
       "      <td>Emmy-winning comedy writer Louis C.K. brings h...</td>\n",
       "    </tr>\n",
       "    <tr>\n",
       "      <th>s5814</th>\n",
       "      <td>Movie</td>\n",
       "      <td>Louis C.K.: Live at the Comedy Store</td>\n",
       "      <td>Louis C.K.</td>\n",
       "      <td>Louis C.K.</td>\n",
       "      <td>United States</td>\n",
       "      <td>August 15, 2016</td>\n",
       "      <td>2015</td>\n",
       "      <td>NaN</td>\n",
       "      <td>66 min</td>\n",
       "      <td>Movies</td>\n",
       "      <td>The comic puts his trademark hilarious/thought...</td>\n",
       "    </tr>\n",
       "    <tr>\n",
       "      <th>s5990</th>\n",
       "      <td>Movie</td>\n",
       "      <td>13TH: A Conversation with Oprah Winfrey &amp; Ava ...</td>\n",
       "      <td>NaN</td>\n",
       "      <td>Oprah Winfrey, Ava DuVernay</td>\n",
       "      <td>NaN</td>\n",
       "      <td>January 26, 2017</td>\n",
       "      <td>2017</td>\n",
       "      <td>NaN</td>\n",
       "      <td>37 min</td>\n",
       "      <td>Movies</td>\n",
       "      <td>Oprah Winfrey sits down with director Ava DuVe...</td>\n",
       "    </tr>\n",
       "    <tr>\n",
       "      <th>s6828</th>\n",
       "      <td>TV Show</td>\n",
       "      <td>Gargantia on the Verdurous Planet</td>\n",
       "      <td>NaN</td>\n",
       "      <td>Kaito Ishikawa, Hisako Kanemoto, Ai Kayano, Ka...</td>\n",
       "      <td>Japan</td>\n",
       "      <td>December 1, 2016</td>\n",
       "      <td>2013</td>\n",
       "      <td>NaN</td>\n",
       "      <td>1 Season</td>\n",
       "      <td>Anime Series, International TV Shows</td>\n",
       "      <td>After falling through a wormhole, a space-dwel...</td>\n",
       "    </tr>\n",
       "    <tr>\n",
       "      <th>s7313</th>\n",
       "      <td>TV Show</td>\n",
       "      <td>Little Lunch</td>\n",
       "      <td>NaN</td>\n",
       "      <td>Flynn Curry, Olivia Deeble, Madison Lu, Oisín ...</td>\n",
       "      <td>Australia</td>\n",
       "      <td>February 1, 2018</td>\n",
       "      <td>2015</td>\n",
       "      <td>NaN</td>\n",
       "      <td>1 Season</td>\n",
       "      <td>Kids' TV, TV Comedies</td>\n",
       "      <td>Adopting a child's perspective, this show take...</td>\n",
       "    </tr>\n",
       "    <tr>\n",
       "      <th>s7538</th>\n",
       "      <td>Movie</td>\n",
       "      <td>My Honor Was Loyalty</td>\n",
       "      <td>Alessandro Pepe</td>\n",
       "      <td>Leone Frisa, Paolo Vaccarino, Francesco Miglio...</td>\n",
       "      <td>Italy</td>\n",
       "      <td>March 1, 2017</td>\n",
       "      <td>2015</td>\n",
       "      <td>NaN</td>\n",
       "      <td>115 min</td>\n",
       "      <td>Dramas</td>\n",
       "      <td>Amid the chaos and horror of World War II, a c...</td>\n",
       "    </tr>\n",
       "  </tbody>\n",
       "</table>\n",
       "</div>"
      ],
      "text/plain": [
       "            type                                              title  \\\n",
       "show_id                                                               \n",
       "s5542      Movie                                    Louis C.K. 2017   \n",
       "s5795      Movie                              Louis C.K.: Hilarious   \n",
       "s5814      Movie               Louis C.K.: Live at the Comedy Store   \n",
       "s5990      Movie  13TH: A Conversation with Oprah Winfrey & Ava ...   \n",
       "s6828    TV Show                  Gargantia on the Verdurous Planet   \n",
       "s7313    TV Show                                       Little Lunch   \n",
       "s7538      Movie                               My Honor Was Loyalty   \n",
       "\n",
       "                director                                               cast  \\\n",
       "show_id                                                                       \n",
       "s5542         Louis C.K.                                         Louis C.K.   \n",
       "s5795         Louis C.K.                                         Louis C.K.   \n",
       "s5814         Louis C.K.                                         Louis C.K.   \n",
       "s5990                NaN                        Oprah Winfrey, Ava DuVernay   \n",
       "s6828                NaN  Kaito Ishikawa, Hisako Kanemoto, Ai Kayano, Ka...   \n",
       "s7313                NaN  Flynn Curry, Olivia Deeble, Madison Lu, Oisín ...   \n",
       "s7538    Alessandro Pepe  Leone Frisa, Paolo Vaccarino, Francesco Miglio...   \n",
       "\n",
       "               country          date_added  release_year rating  duration  \\\n",
       "show_id                                                                     \n",
       "s5542    United States       April 4, 2017          2017    NaN    74 min   \n",
       "s5795    United States  September 16, 2016          2010    NaN    84 min   \n",
       "s5814    United States     August 15, 2016          2015    NaN    66 min   \n",
       "s5990              NaN    January 26, 2017          2017    NaN    37 min   \n",
       "s6828            Japan    December 1, 2016          2013    NaN  1 Season   \n",
       "s7313        Australia    February 1, 2018          2015    NaN  1 Season   \n",
       "s7538            Italy       March 1, 2017          2015    NaN   115 min   \n",
       "\n",
       "                                    listed_in  \\\n",
       "show_id                                         \n",
       "s5542                                  Movies   \n",
       "s5795                                  Movies   \n",
       "s5814                                  Movies   \n",
       "s5990                                  Movies   \n",
       "s6828    Anime Series, International TV Shows   \n",
       "s7313                   Kids' TV, TV Comedies   \n",
       "s7538                                  Dramas   \n",
       "\n",
       "                                               description  \n",
       "show_id                                                     \n",
       "s5542    Louis C.K. muses on religion, eternal love, gi...  \n",
       "s5795    Emmy-winning comedy writer Louis C.K. brings h...  \n",
       "s5814    The comic puts his trademark hilarious/thought...  \n",
       "s5990    Oprah Winfrey sits down with director Ava DuVe...  \n",
       "s6828    After falling through a wormhole, a space-dwel...  \n",
       "s7313    Adopting a child's perspective, this show take...  \n",
       "s7538    Amid the chaos and horror of World War II, a c...  "
      ]
     },
     "execution_count": 19,
     "metadata": {},
     "output_type": "execute_result"
    }
   ],
   "source": [
    "netflix_movies_df[netflix_movies_df['rating'].isna()]"
   ]
  },
  {
   "cell_type": "markdown",
   "id": "094fc336-f223-4b47-8444-f893df15ce1a",
   "metadata": {},
   "source": [
    "**handled human error**"
   ]
  },
  {
   "cell_type": "markdown",
   "id": "cec3dd6a-ba42-47cb-9f9b-c537de76fd36",
   "metadata": {
    "tags": []
   },
   "source": [
    "![green-divider](https://user-images.githubusercontent.com/7065401/52071924-c003ad80-2562-11e9-8297-1c6595f8a7ff.png)"
   ]
  },
  {
   "cell_type": "markdown",
   "id": "e0ae9b51-dc7e-4d8f-a52b-c69c80ba6598",
   "metadata": {},
   "source": [
    "### Filling Missing Values with dummy Values"
   ]
  },
  {
   "cell_type": "markdown",
   "id": "b74db597-4103-4643-a218-f2d0d077de7a",
   "metadata": {},
   "source": [
    "**while handling these data duration null values has been removed, or replacing of null values of rated with** \"not rated\""
   ]
  },
  {
   "cell_type": "code",
   "execution_count": 21,
   "id": "91acc85c-72be-4075-964c-cab9e3b6c8c8",
   "metadata": {
    "tags": []
   },
   "outputs": [],
   "source": [
    "netflix_movies_df.loc[netflix_movies_df['rating'].isna(), 'rating'] = 'Not Rated'"
   ]
  },
  {
   "cell_type": "code",
   "execution_count": 178,
   "id": "3ef78f17-bfa2-4e90-b24e-74cc4a8b02e6",
   "metadata": {
    "tags": []
   },
   "outputs": [
    {
     "name": "stdout",
     "output_type": "stream",
     "text": [
      "<class 'pandas.core.frame.DataFrame'>\n",
      "Index: 8807 entries, s1 to s8807\n",
      "Data columns (total 11 columns):\n",
      " #   Column        Non-Null Count  Dtype \n",
      "---  ------        --------------  ----- \n",
      " 0   type          8807 non-null   object\n",
      " 1   title         8807 non-null   object\n",
      " 2   director      6173 non-null   object\n",
      " 3   cast          7982 non-null   object\n",
      " 4   country       7976 non-null   object\n",
      " 5   date_added    8797 non-null   object\n",
      " 6   release_year  8807 non-null   int64 \n",
      " 7   rating        8807 non-null   object\n",
      " 8   duration      8807 non-null   object\n",
      " 9   listed_in     8807 non-null   object\n",
      " 10  description   8807 non-null   object\n",
      "dtypes: int64(1), object(10)\n",
      "memory usage: 825.7+ KB\n"
     ]
    }
   ],
   "source": [
    "netflix_movies_df.info()"
   ]
  },
  {
   "cell_type": "markdown",
   "id": "23923040-7710-46ac-af1c-29c28829751d",
   "metadata": {},
   "source": [
    "**Adding values null values of director with not added**"
   ]
  },
  {
   "cell_type": "code",
   "execution_count": 23,
   "id": "a508e32c-ddea-4021-82c0-81b3ea408616",
   "metadata": {
    "tags": []
   },
   "outputs": [],
   "source": [
    "netflix_movies_df.loc[netflix_movies_df['director'].isna(), 'director'] = 'Not Added'"
   ]
  },
  {
   "cell_type": "code",
   "execution_count": 182,
   "id": "817d0311-ca49-4de9-bebf-bed6f5213856",
   "metadata": {
    "tags": []
   },
   "outputs": [
    {
     "name": "stdout",
     "output_type": "stream",
     "text": [
      "<class 'pandas.core.frame.DataFrame'>\n",
      "Index: 8807 entries, s1 to s8807\n",
      "Data columns (total 11 columns):\n",
      " #   Column        Non-Null Count  Dtype \n",
      "---  ------        --------------  ----- \n",
      " 0   type          8807 non-null   object\n",
      " 1   title         8807 non-null   object\n",
      " 2   director      8807 non-null   object\n",
      " 3   cast          7982 non-null   object\n",
      " 4   country       7976 non-null   object\n",
      " 5   date_added    8797 non-null   object\n",
      " 6   release_year  8807 non-null   int64 \n",
      " 7   rating        8807 non-null   object\n",
      " 8   duration      8807 non-null   object\n",
      " 9   listed_in     8807 non-null   object\n",
      " 10  description   8807 non-null   object\n",
      "dtypes: int64(1), object(10)\n",
      "memory usage: 825.7+ KB\n"
     ]
    }
   ],
   "source": [
    "netflix_movies_df.info()"
   ]
  },
  {
   "cell_type": "code",
   "execution_count": 25,
   "id": "162745dc-e4f2-4073-b42e-7c781e49458c",
   "metadata": {
    "tags": []
   },
   "outputs": [],
   "source": [
    "netflix_movies_df.loc[netflix_movies_df['cast'].isna(), 'cast'] = 'Not Added'"
   ]
  },
  {
   "cell_type": "code",
   "execution_count": 27,
   "id": "814f965c-9d77-4fb6-9356-6ac1a5d08850",
   "metadata": {
    "tags": []
   },
   "outputs": [],
   "source": [
    "netflix_movies_df.loc[netflix_movies_df['country'].isna(), 'country'] = 'Not Added'"
   ]
  },
  {
   "cell_type": "markdown",
   "id": "ec646784-68d3-43a4-a9c4-078918a4f04b",
   "metadata": {},
   "source": [
    "**Replacing all other values too, by \"not Added'**"
   ]
  },
  {
   "cell_type": "code",
   "execution_count": 192,
   "id": "a90e8cd6-30e3-4fde-8b9a-cf69a97a4245",
   "metadata": {
    "tags": []
   },
   "outputs": [
    {
     "name": "stdout",
     "output_type": "stream",
     "text": [
      "<class 'pandas.core.frame.DataFrame'>\n",
      "Index: 8807 entries, s1 to s8807\n",
      "Data columns (total 11 columns):\n",
      " #   Column        Non-Null Count  Dtype \n",
      "---  ------        --------------  ----- \n",
      " 0   type          8807 non-null   object\n",
      " 1   title         8807 non-null   object\n",
      " 2   director      8807 non-null   object\n",
      " 3   cast          8807 non-null   object\n",
      " 4   country       8807 non-null   object\n",
      " 5   date_added    8797 non-null   object\n",
      " 6   release_year  8807 non-null   int64 \n",
      " 7   rating        8807 non-null   object\n",
      " 8   duration      8807 non-null   object\n",
      " 9   listed_in     8807 non-null   object\n",
      " 10  description   8807 non-null   object\n",
      "dtypes: int64(1), object(10)\n",
      "memory usage: 825.7+ KB\n"
     ]
    }
   ],
   "source": [
    "netflix_movies_df.info()"
   ]
  },
  {
   "cell_type": "markdown",
   "id": "87c6f944-b875-4746-a567-5480535755c0",
   "metadata": {},
   "source": [
    "![green-divider](https://user-images.githubusercontent.com/7065401/52071924-c003ad80-2562-11e9-8297-1c6595f8a7ff.png)"
   ]
  },
  {
   "cell_type": "markdown",
   "id": "d3b4bdfb-f5a2-4117-9543-52b006ce72cf",
   "metadata": {},
   "source": [
    "#### **except Dates for two reasons**\n",
    "1. it is not text data\n",
    "2. we have to find average so, we will put values accordingly\n",
    "\n",
    "but we have to change data type of all data in the right types"
   ]
  },
  {
   "cell_type": "markdown",
   "id": "74577f5b-2177-4775-9703-ca0db60dfdda",
   "metadata": {
    "tags": []
   },
   "source": [
    "**null values**"
   ]
  },
  {
   "cell_type": "code",
   "execution_count": 29,
   "id": "2988060c-fad5-4246-b5df-f782a9093d9f",
   "metadata": {
    "tags": []
   },
   "outputs": [
    {
     "data": {
      "text/html": [
       "<div>\n",
       "<style scoped>\n",
       "    .dataframe tbody tr th:only-of-type {\n",
       "        vertical-align: middle;\n",
       "    }\n",
       "\n",
       "    .dataframe tbody tr th {\n",
       "        vertical-align: top;\n",
       "    }\n",
       "\n",
       "    .dataframe thead th {\n",
       "        text-align: right;\n",
       "    }\n",
       "</style>\n",
       "<table border=\"1\" class=\"dataframe\">\n",
       "  <thead>\n",
       "    <tr style=\"text-align: right;\">\n",
       "      <th></th>\n",
       "      <th>type</th>\n",
       "      <th>title</th>\n",
       "      <th>director</th>\n",
       "      <th>cast</th>\n",
       "      <th>country</th>\n",
       "      <th>date_added</th>\n",
       "      <th>release_year</th>\n",
       "      <th>rating</th>\n",
       "      <th>duration</th>\n",
       "      <th>listed_in</th>\n",
       "      <th>description</th>\n",
       "    </tr>\n",
       "    <tr>\n",
       "      <th>show_id</th>\n",
       "      <th></th>\n",
       "      <th></th>\n",
       "      <th></th>\n",
       "      <th></th>\n",
       "      <th></th>\n",
       "      <th></th>\n",
       "      <th></th>\n",
       "      <th></th>\n",
       "      <th></th>\n",
       "      <th></th>\n",
       "      <th></th>\n",
       "    </tr>\n",
       "  </thead>\n",
       "  <tbody>\n",
       "    <tr>\n",
       "      <th>s6067</th>\n",
       "      <td>TV Show</td>\n",
       "      <td>A Young Doctor's Notebook and Other Stories</td>\n",
       "      <td>Not Added</td>\n",
       "      <td>Daniel Radcliffe, Jon Hamm, Adam Godley, Chris...</td>\n",
       "      <td>United Kingdom</td>\n",
       "      <td>NaN</td>\n",
       "      <td>2013</td>\n",
       "      <td>TV-MA</td>\n",
       "      <td>2 Seasons</td>\n",
       "      <td>British TV Shows, TV Comedies, TV Dramas</td>\n",
       "      <td>Set during the Russian Revolution, this comic ...</td>\n",
       "    </tr>\n",
       "    <tr>\n",
       "      <th>s6175</th>\n",
       "      <td>TV Show</td>\n",
       "      <td>Anthony Bourdain: Parts Unknown</td>\n",
       "      <td>Not Added</td>\n",
       "      <td>Anthony Bourdain</td>\n",
       "      <td>United States</td>\n",
       "      <td>NaN</td>\n",
       "      <td>2018</td>\n",
       "      <td>TV-PG</td>\n",
       "      <td>5 Seasons</td>\n",
       "      <td>Docuseries</td>\n",
       "      <td>This CNN original series has chef Anthony Bour...</td>\n",
       "    </tr>\n",
       "    <tr>\n",
       "      <th>s6796</th>\n",
       "      <td>TV Show</td>\n",
       "      <td>Frasier</td>\n",
       "      <td>Not Added</td>\n",
       "      <td>Kelsey Grammer, Jane Leeves, David Hyde Pierce...</td>\n",
       "      <td>United States</td>\n",
       "      <td>NaN</td>\n",
       "      <td>2003</td>\n",
       "      <td>TV-PG</td>\n",
       "      <td>11 Seasons</td>\n",
       "      <td>Classic &amp; Cult TV, TV Comedies</td>\n",
       "      <td>Frasier Crane is a snooty but lovable Seattle ...</td>\n",
       "    </tr>\n",
       "    <tr>\n",
       "      <th>s6807</th>\n",
       "      <td>TV Show</td>\n",
       "      <td>Friends</td>\n",
       "      <td>Not Added</td>\n",
       "      <td>Jennifer Aniston, Courteney Cox, Lisa Kudrow, ...</td>\n",
       "      <td>United States</td>\n",
       "      <td>NaN</td>\n",
       "      <td>2003</td>\n",
       "      <td>TV-14</td>\n",
       "      <td>10 Seasons</td>\n",
       "      <td>Classic &amp; Cult TV, TV Comedies</td>\n",
       "      <td>This hit sitcom follows the merry misadventure...</td>\n",
       "    </tr>\n",
       "    <tr>\n",
       "      <th>s6902</th>\n",
       "      <td>TV Show</td>\n",
       "      <td>Gunslinger Girl</td>\n",
       "      <td>Not Added</td>\n",
       "      <td>Yuuka Nanri, Kanako Mitsuhashi, Eri Sendai, Am...</td>\n",
       "      <td>Japan</td>\n",
       "      <td>NaN</td>\n",
       "      <td>2008</td>\n",
       "      <td>TV-14</td>\n",
       "      <td>2 Seasons</td>\n",
       "      <td>Anime Series, Crime TV Shows</td>\n",
       "      <td>On the surface, the Social Welfare Agency appe...</td>\n",
       "    </tr>\n",
       "    <tr>\n",
       "      <th>s7197</th>\n",
       "      <td>TV Show</td>\n",
       "      <td>Kikoriki</td>\n",
       "      <td>Not Added</td>\n",
       "      <td>Igor Dmitriev</td>\n",
       "      <td>Not Added</td>\n",
       "      <td>NaN</td>\n",
       "      <td>2010</td>\n",
       "      <td>TV-Y</td>\n",
       "      <td>2 Seasons</td>\n",
       "      <td>Kids' TV</td>\n",
       "      <td>A wacky rabbit and his gang of animal pals hav...</td>\n",
       "    </tr>\n",
       "    <tr>\n",
       "      <th>s7255</th>\n",
       "      <td>TV Show</td>\n",
       "      <td>La Familia P. Luche</td>\n",
       "      <td>Not Added</td>\n",
       "      <td>Eugenio Derbez, Consuelo Duval, Luis Manuel Áv...</td>\n",
       "      <td>United States</td>\n",
       "      <td>NaN</td>\n",
       "      <td>2012</td>\n",
       "      <td>TV-14</td>\n",
       "      <td>3 Seasons</td>\n",
       "      <td>International TV Shows, Spanish-Language TV Sh...</td>\n",
       "      <td>This irreverent sitcom featues Ludovico, Feder...</td>\n",
       "    </tr>\n",
       "    <tr>\n",
       "      <th>s7407</th>\n",
       "      <td>TV Show</td>\n",
       "      <td>Maron</td>\n",
       "      <td>Not Added</td>\n",
       "      <td>Marc Maron, Judd Hirsch, Josh Brener, Nora Zeh...</td>\n",
       "      <td>United States</td>\n",
       "      <td>NaN</td>\n",
       "      <td>2016</td>\n",
       "      <td>TV-MA</td>\n",
       "      <td>4 Seasons</td>\n",
       "      <td>TV Comedies</td>\n",
       "      <td>Marc Maron stars as Marc Maron, who interviews...</td>\n",
       "    </tr>\n",
       "    <tr>\n",
       "      <th>s7848</th>\n",
       "      <td>TV Show</td>\n",
       "      <td>Red vs. Blue</td>\n",
       "      <td>Not Added</td>\n",
       "      <td>Burnie Burns, Jason Saldaña, Gustavo Sorola, G...</td>\n",
       "      <td>United States</td>\n",
       "      <td>NaN</td>\n",
       "      <td>2015</td>\n",
       "      <td>NR</td>\n",
       "      <td>13 Seasons</td>\n",
       "      <td>TV Action &amp; Adventure, TV Comedies, TV Sci-Fi ...</td>\n",
       "      <td>This parody of first-person shooter games, mil...</td>\n",
       "    </tr>\n",
       "    <tr>\n",
       "      <th>s8183</th>\n",
       "      <td>TV Show</td>\n",
       "      <td>The Adventures of Figaro Pho</td>\n",
       "      <td>Not Added</td>\n",
       "      <td>Luke Jurevicius, Craig Behenna, Charlotte Haml...</td>\n",
       "      <td>Australia</td>\n",
       "      <td>NaN</td>\n",
       "      <td>2015</td>\n",
       "      <td>TV-Y7</td>\n",
       "      <td>2 Seasons</td>\n",
       "      <td>Kids' TV, TV Comedies</td>\n",
       "      <td>Imagine your worst fears, then multiply them: ...</td>\n",
       "    </tr>\n",
       "  </tbody>\n",
       "</table>\n",
       "</div>"
      ],
      "text/plain": [
       "            type                                        title   director  \\\n",
       "show_id                                                                    \n",
       "s6067    TV Show  A Young Doctor's Notebook and Other Stories  Not Added   \n",
       "s6175    TV Show              Anthony Bourdain: Parts Unknown  Not Added   \n",
       "s6796    TV Show                                      Frasier  Not Added   \n",
       "s6807    TV Show                                      Friends  Not Added   \n",
       "s6902    TV Show                              Gunslinger Girl  Not Added   \n",
       "s7197    TV Show                                     Kikoriki  Not Added   \n",
       "s7255    TV Show                          La Familia P. Luche  Not Added   \n",
       "s7407    TV Show                                        Maron  Not Added   \n",
       "s7848    TV Show                                 Red vs. Blue  Not Added   \n",
       "s8183    TV Show                 The Adventures of Figaro Pho  Not Added   \n",
       "\n",
       "                                                      cast         country  \\\n",
       "show_id                                                                      \n",
       "s6067    Daniel Radcliffe, Jon Hamm, Adam Godley, Chris...  United Kingdom   \n",
       "s6175                                     Anthony Bourdain   United States   \n",
       "s6796    Kelsey Grammer, Jane Leeves, David Hyde Pierce...   United States   \n",
       "s6807    Jennifer Aniston, Courteney Cox, Lisa Kudrow, ...   United States   \n",
       "s6902    Yuuka Nanri, Kanako Mitsuhashi, Eri Sendai, Am...           Japan   \n",
       "s7197                                        Igor Dmitriev       Not Added   \n",
       "s7255    Eugenio Derbez, Consuelo Duval, Luis Manuel Áv...   United States   \n",
       "s7407    Marc Maron, Judd Hirsch, Josh Brener, Nora Zeh...   United States   \n",
       "s7848    Burnie Burns, Jason Saldaña, Gustavo Sorola, G...   United States   \n",
       "s8183    Luke Jurevicius, Craig Behenna, Charlotte Haml...       Australia   \n",
       "\n",
       "        date_added  release_year rating    duration  \\\n",
       "show_id                                               \n",
       "s6067          NaN          2013  TV-MA   2 Seasons   \n",
       "s6175          NaN          2018  TV-PG   5 Seasons   \n",
       "s6796          NaN          2003  TV-PG  11 Seasons   \n",
       "s6807          NaN          2003  TV-14  10 Seasons   \n",
       "s6902          NaN          2008  TV-14   2 Seasons   \n",
       "s7197          NaN          2010   TV-Y   2 Seasons   \n",
       "s7255          NaN          2012  TV-14   3 Seasons   \n",
       "s7407          NaN          2016  TV-MA   4 Seasons   \n",
       "s7848          NaN          2015     NR  13 Seasons   \n",
       "s8183          NaN          2015  TV-Y7   2 Seasons   \n",
       "\n",
       "                                                 listed_in  \\\n",
       "show_id                                                      \n",
       "s6067             British TV Shows, TV Comedies, TV Dramas   \n",
       "s6175                                           Docuseries   \n",
       "s6796                       Classic & Cult TV, TV Comedies   \n",
       "s6807                       Classic & Cult TV, TV Comedies   \n",
       "s6902                         Anime Series, Crime TV Shows   \n",
       "s7197                                             Kids' TV   \n",
       "s7255    International TV Shows, Spanish-Language TV Sh...   \n",
       "s7407                                          TV Comedies   \n",
       "s7848    TV Action & Adventure, TV Comedies, TV Sci-Fi ...   \n",
       "s8183                                Kids' TV, TV Comedies   \n",
       "\n",
       "                                               description  \n",
       "show_id                                                     \n",
       "s6067    Set during the Russian Revolution, this comic ...  \n",
       "s6175    This CNN original series has chef Anthony Bour...  \n",
       "s6796    Frasier Crane is a snooty but lovable Seattle ...  \n",
       "s6807    This hit sitcom follows the merry misadventure...  \n",
       "s6902    On the surface, the Social Welfare Agency appe...  \n",
       "s7197    A wacky rabbit and his gang of animal pals hav...  \n",
       "s7255    This irreverent sitcom featues Ludovico, Feder...  \n",
       "s7407    Marc Maron stars as Marc Maron, who interviews...  \n",
       "s7848    This parody of first-person shooter games, mil...  \n",
       "s8183    Imagine your worst fears, then multiply them: ...  "
      ]
     },
     "execution_count": 29,
     "metadata": {},
     "output_type": "execute_result"
    }
   ],
   "source": [
    "netflix_movies_df[netflix_movies_df['date_added'].isna()]"
   ]
  },
  {
   "cell_type": "markdown",
   "id": "69cddbdc-3335-42d6-aa10-5d9c7c3b3a34",
   "metadata": {},
   "source": [
    "changing data types before adding values for missing values"
   ]
  },
  {
   "cell_type": "code",
   "execution_count": 31,
   "id": "3478c01e-996d-4665-901c-c11546735381",
   "metadata": {
    "tags": []
   },
   "outputs": [],
   "source": [
    "netflix_movies_df['release_year'] = pd.to_datetime(netflix_movies_df['release_year'], format='%Y', errors='coerce')\n",
    "\n",
    "netflix_movies_df['date_added'] = pd.to_datetime(netflix_movies_df['date_added'], errors='coerce')\n"
   ]
  },
  {
   "cell_type": "code",
   "execution_count": 75,
   "id": "169af7c1-78f7-47d5-bb46-24ba4907071a",
   "metadata": {
    "tags": []
   },
   "outputs": [
    {
     "data": {
      "text/html": [
       "<div>\n",
       "<style scoped>\n",
       "    .dataframe tbody tr th:only-of-type {\n",
       "        vertical-align: middle;\n",
       "    }\n",
       "\n",
       "    .dataframe tbody tr th {\n",
       "        vertical-align: top;\n",
       "    }\n",
       "\n",
       "    .dataframe thead th {\n",
       "        text-align: right;\n",
       "    }\n",
       "</style>\n",
       "<table border=\"1\" class=\"dataframe\">\n",
       "  <thead>\n",
       "    <tr style=\"text-align: right;\">\n",
       "      <th></th>\n",
       "      <th>type</th>\n",
       "      <th>title</th>\n",
       "      <th>director</th>\n",
       "      <th>cast</th>\n",
       "      <th>country</th>\n",
       "      <th>date_added</th>\n",
       "      <th>release_year</th>\n",
       "      <th>rating</th>\n",
       "      <th>duration</th>\n",
       "      <th>listed_in</th>\n",
       "      <th>description</th>\n",
       "    </tr>\n",
       "    <tr>\n",
       "      <th>show_id</th>\n",
       "      <th></th>\n",
       "      <th></th>\n",
       "      <th></th>\n",
       "      <th></th>\n",
       "      <th></th>\n",
       "      <th></th>\n",
       "      <th></th>\n",
       "      <th></th>\n",
       "      <th></th>\n",
       "      <th></th>\n",
       "      <th></th>\n",
       "    </tr>\n",
       "  </thead>\n",
       "  <tbody>\n",
       "    <tr>\n",
       "      <th>s1</th>\n",
       "      <td>Movie</td>\n",
       "      <td>Dick Johnson Is Dead</td>\n",
       "      <td>Kirsten Johnson</td>\n",
       "      <td>Not Added</td>\n",
       "      <td>United States</td>\n",
       "      <td>2021-09-25</td>\n",
       "      <td>2020-01-01</td>\n",
       "      <td>PG-13</td>\n",
       "      <td>90 min</td>\n",
       "      <td>Documentaries</td>\n",
       "      <td>As her father nears the end of his life, filmm...</td>\n",
       "    </tr>\n",
       "    <tr>\n",
       "      <th>s2</th>\n",
       "      <td>TV Show</td>\n",
       "      <td>Blood &amp; Water</td>\n",
       "      <td>Not Added</td>\n",
       "      <td>Ama Qamata, Khosi Ngema, Gail Mabalane, Thaban...</td>\n",
       "      <td>South Africa</td>\n",
       "      <td>2021-09-24</td>\n",
       "      <td>2021-01-01</td>\n",
       "      <td>TV-MA</td>\n",
       "      <td>2 Seasons</td>\n",
       "      <td>International TV Shows, TV Dramas, TV Mysteries</td>\n",
       "      <td>After crossing paths at a party, a Cape Town t...</td>\n",
       "    </tr>\n",
       "    <tr>\n",
       "      <th>s3</th>\n",
       "      <td>TV Show</td>\n",
       "      <td>Ganglands</td>\n",
       "      <td>Julien Leclercq</td>\n",
       "      <td>Sami Bouajila, Tracy Gotoas, Samuel Jouy, Nabi...</td>\n",
       "      <td>Not Added</td>\n",
       "      <td>2021-09-24</td>\n",
       "      <td>2021-01-01</td>\n",
       "      <td>TV-MA</td>\n",
       "      <td>1 Season</td>\n",
       "      <td>Crime TV Shows, International TV Shows, TV Act...</td>\n",
       "      <td>To protect his family from a powerful drug lor...</td>\n",
       "    </tr>\n",
       "  </tbody>\n",
       "</table>\n",
       "</div>"
      ],
      "text/plain": [
       "            type                 title         director  \\\n",
       "show_id                                                   \n",
       "s1         Movie  Dick Johnson Is Dead  Kirsten Johnson   \n",
       "s2       TV Show         Blood & Water        Not Added   \n",
       "s3       TV Show             Ganglands  Julien Leclercq   \n",
       "\n",
       "                                                      cast        country  \\\n",
       "show_id                                                                     \n",
       "s1                                               Not Added  United States   \n",
       "s2       Ama Qamata, Khosi Ngema, Gail Mabalane, Thaban...   South Africa   \n",
       "s3       Sami Bouajila, Tracy Gotoas, Samuel Jouy, Nabi...      Not Added   \n",
       "\n",
       "        date_added release_year rating   duration  \\\n",
       "show_id                                             \n",
       "s1      2021-09-25   2020-01-01  PG-13     90 min   \n",
       "s2      2021-09-24   2021-01-01  TV-MA  2 Seasons   \n",
       "s3      2021-09-24   2021-01-01  TV-MA   1 Season   \n",
       "\n",
       "                                                 listed_in  \\\n",
       "show_id                                                      \n",
       "s1                                           Documentaries   \n",
       "s2         International TV Shows, TV Dramas, TV Mysteries   \n",
       "s3       Crime TV Shows, International TV Shows, TV Act...   \n",
       "\n",
       "                                               description  \n",
       "show_id                                                     \n",
       "s1       As her father nears the end of his life, filmm...  \n",
       "s2       After crossing paths at a party, a Cape Town t...  \n",
       "s3       To protect his family from a powerful drug lor...  "
      ]
     },
     "execution_count": 75,
     "metadata": {},
     "output_type": "execute_result"
    }
   ],
   "source": [
    "netflix_movies_df.head(3)"
   ]
  },
  {
   "cell_type": "code",
   "execution_count": 33,
   "id": "0bb9580e-99c5-4300-8b12-23f46cdb39e8",
   "metadata": {
    "tags": []
   },
   "outputs": [
    {
     "data": {
      "text/plain": [
       "Timestamp('2019-05-23 01:45:29.452290816')"
      ]
     },
     "execution_count": 33,
     "metadata": {},
     "output_type": "execute_result"
    }
   ],
   "source": [
    "avg_dateofAdded = netflix_movies_df['date_added'].mean()\n",
    "avg_dateofAdded"
   ]
  },
  {
   "cell_type": "code",
   "execution_count": 35,
   "id": "6db338de-be91-40cb-8705-8f9891480603",
   "metadata": {
    "tags": []
   },
   "outputs": [],
   "source": [
    "netflix_movies_df.loc[netflix_movies_df['date_added'].isna(), 'date_added'] = avg_dateofAdded"
   ]
  },
  {
   "cell_type": "markdown",
   "id": "44b4a506-c428-4ddc-83c5-b4dc743f6e1e",
   "metadata": {},
   "source": [
    "checking by extracting one record who have not added date"
   ]
  },
  {
   "cell_type": "code",
   "execution_count": 37,
   "id": "816f2856-5c6f-462e-8b6d-c89d2fa0e4e1",
   "metadata": {
    "tags": []
   },
   "outputs": [
    {
     "data": {
      "text/plain": [
       "type                                                      TV Show\n",
       "title                 A Young Doctor's Notebook and Other Stories\n",
       "director                                                Not Added\n",
       "cast            Daniel Radcliffe, Jon Hamm, Adam Godley, Chris...\n",
       "country                                            United Kingdom\n",
       "date_added                          2019-05-23 01:45:29.452290816\n",
       "release_year                                  2013-01-01 00:00:00\n",
       "rating                                                      TV-MA\n",
       "duration                                                2 Seasons\n",
       "listed_in                British TV Shows, TV Comedies, TV Dramas\n",
       "description     Set during the Russian Revolution, this comic ...\n",
       "Name: s6067, dtype: object"
      ]
     },
     "execution_count": 37,
     "metadata": {},
     "output_type": "execute_result"
    }
   ],
   "source": [
    "netflix_movies_df.loc['s6067']"
   ]
  },
  {
   "cell_type": "markdown",
   "id": "618ba9b2-8f04-43b9-9f13-131ede7e59f4",
   "metadata": {},
   "source": [
    "**checking is there any null values?**"
   ]
  },
  {
   "cell_type": "code",
   "execution_count": 226,
   "id": "6b7e1800-ecbd-4c94-aad4-dd5f5f5df63c",
   "metadata": {
    "tags": []
   },
   "outputs": [
    {
     "name": "stdout",
     "output_type": "stream",
     "text": [
      "<class 'pandas.core.frame.DataFrame'>\n",
      "Index: 8807 entries, s1 to s8807\n",
      "Data columns (total 11 columns):\n",
      " #   Column        Non-Null Count  Dtype         \n",
      "---  ------        --------------  -----         \n",
      " 0   type          8807 non-null   object        \n",
      " 1   title         8807 non-null   object        \n",
      " 2   director      8807 non-null   object        \n",
      " 3   cast          8807 non-null   object        \n",
      " 4   country       8807 non-null   object        \n",
      " 5   date_added    8807 non-null   datetime64[ns]\n",
      " 6   release_year  8807 non-null   datetime64[ns]\n",
      " 7   rating        8807 non-null   object        \n",
      " 8   duration      8807 non-null   object        \n",
      " 9   listed_in     8807 non-null   object        \n",
      " 10  description   8807 non-null   object        \n",
      "dtypes: datetime64[ns](2), object(9)\n",
      "memory usage: 1.1+ MB\n"
     ]
    }
   ],
   "source": [
    "netflix_movies_df.info()"
   ]
  },
  {
   "cell_type": "markdown",
   "id": "30eee4aa-5e49-4484-a221-cc681942903c",
   "metadata": {
    "tags": []
   },
   "source": [
    "**data is clean now an ready to work for further analysis**"
   ]
  },
  {
   "cell_type": "markdown",
   "id": "4a14fdec-1b0c-443e-9ae8-b77b4cd294b1",
   "metadata": {},
   "source": [
    "![green-divider](https://user-images.githubusercontent.com/7065401/52071924-c003ad80-2562-11e9-8297-1c6595f8a7ff.png)"
   ]
  },
  {
   "cell_type": "markdown",
   "id": "c6f52e67-1228-48e9-b02f-51d05c3fa1f9",
   "metadata": {},
   "source": [
    "---"
   ]
  },
  {
   "cell_type": "markdown",
   "id": "37190382-06c4-4174-b8e9-aabad78e74f9",
   "metadata": {},
   "source": [
    "### Netflix Movies Analysis"
   ]
  },
  {
   "cell_type": "markdown",
   "id": "b313de89-76f6-4fb8-83fd-c0d4bd529330",
   "metadata": {},
   "source": [
    "**Basic Analysis:**"
   ]
  },
  {
   "cell_type": "code",
   "execution_count": 416,
   "id": "946b29b0-6f0d-4117-b07b-45ab6f92a955",
   "metadata": {
    "tags": []
   },
   "outputs": [
    {
     "data": {
      "image/png": "[encoded data removed]",
      "text/plain": [
       "<Figure size 100x100 with 1 Axes>"
      ]
     },
     "metadata": {},
     "output_type": "display_data"
    }
   ],
   "source": [
    "titleCount = netflix_movies_df['title'].count()\n",
    "\n",
    "fig, ax = plt.subplots(figsize=(1,1))\n",
    "\n",
    "# Hide the axes\n",
    "ax.axis('off')\n",
    "\n",
    "# Display the total discounted price as a large text\n",
    "ax.text(0.5, 0.5, f'The Title Count is : {titleCount:,}', \n",
    "        fontsize=20, ha='center', va='center')\n",
    "\n",
    "plt.show()"
   ]
  },
  {
   "cell_type": "markdown",
   "id": "4e9a6659-4076-413d-8e14-9e15c4a0b22f",
   "metadata": {},
   "source": [
    "**what type of movies have, what movies have highest count?**"
   ]
  },
  {
   "cell_type": "code",
   "execution_count": 65,
   "id": "efe71d2e-ec23-481d-8406-887f271bfe15",
   "metadata": {
    "tags": []
   },
   "outputs": [
    {
     "data": {
      "text/plain": [
       "type\n",
       "Movie      6131\n",
       "TV Show    2676\n",
       "Name: title, dtype: int64"
      ]
     },
     "execution_count": 65,
     "metadata": {},
     "output_type": "execute_result"
    }
   ],
   "source": [
    "sns.set_style('whitegrid')\n",
    "typeofMovies = netflix_movies_df.groupby('type')['title'].count()\n",
    "typeofMovies"
   ]
  },
  {
   "cell_type": "code",
   "execution_count": 125,
   "id": "c8237697-6fed-4fe5-9105-f94c8de094c5",
   "metadata": {
    "tags": []
   },
   "outputs": [
    {
     "data": {
      "text/plain": [
       "Text(0.5, 1.0, 'Type count')"
      ]
     },
     "execution_count": 125,
     "metadata": {},
     "output_type": "execute_result"
    },
    {
     "data": {
      "image/png": "[encoded data removed]",
      "text/plain": [
       "<Figure size 640x480 with 1 Axes>"
      ]
     },
     "metadata": {},
     "output_type": "display_data"
    }
   ],
   "source": [
    "typeofMovies.plot(kind = 'bar', color='skyblue')\n",
    "plt.title('Type count')"
   ]
  },
  {
   "cell_type": "markdown",
   "id": "c4eb22b1-bdac-4efe-83b1-963f05758561",
   "metadata": {
    "tags": []
   },
   "source": [
    "**what type of rating have, what rating movies have highest count?**"
   ]
  },
  {
   "cell_type": "code",
   "execution_count": 129,
   "id": "34274567-1f1f-413a-bb16-3f2298ce60c8",
   "metadata": {
    "tags": []
   },
   "outputs": [
    {
     "data": {
      "text/plain": [
       "rating\n",
       "G              41\n",
       "NC-17           3\n",
       "NR             80\n",
       "Not Rated       7\n",
       "PG            287\n",
       "PG-13         490\n",
       "R             799\n",
       "TV-14        2160\n",
       "TV-G          220\n",
       "TV-MA        3207\n",
       "TV-PG         863\n",
       "TV-Y          307\n",
       "TV-Y7         334\n",
       "TV-Y7-FV        6\n",
       "UR              3\n",
       "Name: title, dtype: int64"
      ]
     },
     "execution_count": 129,
     "metadata": {},
     "output_type": "execute_result"
    }
   ],
   "source": [
    "rating_movie_count = netflix_movies_df.groupby('rating')['title'].count()\n",
    "rating_movie_count"
   ]
  },
  {
   "cell_type": "code",
   "execution_count": 131,
   "id": "649caa14-c5f2-44ae-beec-7fc51e3efd5a",
   "metadata": {
    "tags": []
   },
   "outputs": [
    {
     "data": {
      "text/plain": [
       "Text(0.5, 1.0, 'count Films base on ratings')"
      ]
     },
     "execution_count": 131,
     "metadata": {},
     "output_type": "execute_result"
    },
    {
     "data": {
      "image/png": "[encoded data removed]",
      "text/plain": [
       "<Figure size 640x480 with 1 Axes>"
      ]
     },
     "metadata": {},
     "output_type": "display_data"
    }
   ],
   "source": [
    "rating_movie_count.plot(kind = 'bar', color = 'skyblue')\n",
    "plt.title('count Films base on ratings')"
   ]
  },
  {
   "cell_type": "markdown",
   "id": "f4bfc943-cee7-4192-8808-e353d8a7550f",
   "metadata": {},
   "source": [
    "**Deep Analysis:**"
   ]
  },
  {
   "cell_type": "markdown",
   "id": "fc19e710-1f29-45ca-a5ca-e0d39e596e74",
   "metadata": {
    "tags": []
   },
   "source": [
    "**what year has more movies added the most?**"
   ]
  },
  {
   "cell_type": "markdown",
   "id": "e8fc2989-f6fb-42bd-b160-7ee2ccad13c8",
   "metadata": {},
   "source": [
    "**first what are outliers**"
   ]
  },
  {
   "cell_type": "code",
   "execution_count": 153,
   "id": "54c4ba4b-e442-4084-8482-aff0d97c239a",
   "metadata": {
    "tags": []
   },
   "outputs": [
    {
     "data": {
      "text/plain": [
       "<Axes: ylabel='year_added'>"
      ]
     },
     "execution_count": 153,
     "metadata": {},
     "output_type": "execute_result"
    },
    {
     "data": {
      "image/png": "[encoded data removed]",
      "text/plain": [
       "<Figure size 640x480 with 1 Axes>"
      ]
     },
     "metadata": {},
     "output_type": "display_data"
    }
   ],
   "source": [
    "sns.boxplot(y=netflix_movies_df['year_added'], color='skyblue')"
   ]
  },
  {
   "cell_type": "markdown",
   "id": "07cb63a4-74ed-4d5b-8290-09ab0fc430b0",
   "metadata": {},
   "source": [
    "**what years movies added count**"
   ]
  },
  {
   "cell_type": "code",
   "execution_count": 159,
   "id": "b3c26643-f62b-46a0-b3a4-11371ca0bca6",
   "metadata": {
    "tags": []
   },
   "outputs": [
    {
     "data": {
      "image/png": "[encoded data removed]",
      "text/plain": [
       "<Figure size 1200x600 with 2 Axes>"
      ]
     },
     "metadata": {},
     "output_type": "display_data"
    }
   ],
   "source": [
    "netflix_movies_df['year_added'] = netflix_movies_df['date_added'].dt.year\n",
    "\n",
    "year_movie_count = netflix_movies_df.groupby('year_added')['title'].count().reset_index()\n",
    "\n",
    "# Step 3: Pivot the DataFrame for heatmap\n",
    "year_movie_count_pivot = year_movie_count.set_index('year_added').T\n",
    "\n",
    "# Step 4: Plot the heatmap\n",
    "plt.figure(figsize=(12, 6))\n",
    "sns.heatmap(year_movie_count_pivot, annot=True, fmt=\"d\", cmap=\"Blues\", cbar=True)\n",
    "plt.title('Number of Movies Added Per Year on Netflix')\n",
    "plt.xlabel('Year Added')\n",
    "plt.ylabel('Count of Movies')\n",
    "plt.show()\n"
   ]
  },
  {
   "cell_type": "markdown",
   "id": "16cd673b-e618-4457-a497-b36860ba7af1",
   "metadata": {},
   "source": [
    "**what will be the month with most movies added?**"
   ]
  },
  {
   "cell_type": "code",
   "execution_count": 95,
   "id": "e816b920-407e-4d43-8ac1-27aa419ac3c9",
   "metadata": {
    "tags": []
   },
   "outputs": [
    {
     "data": {
      "image/png": "[encoded data removed]",
      "text/plain": [
       "<Figure size 1200x600 with 2 Axes>"
      ]
     },
     "metadata": {},
     "output_type": "display_data"
    }
   ],
   "source": [
    "netflix_movies_df['months_added'] = netflix_movies_df['date_added'].dt.month\n",
    "\n",
    "month_movie_count = netflix_movies_df.groupby('months_added')['title'].count().reset_index()\n",
    "\n",
    "# Step 3: Pivot the DataFrame for heatmap\n",
    "month_movie_count_pivot = month_movie_count.set_index('months_added').T\n",
    "\n",
    "# Step 4: Plot the heatmap\n",
    "plt.figure(figsize=(12, 6))\n",
    "sns.heatmap(month_movie_count_pivot, annot=True, fmt=\"d\", cmap=\"Blues\", cbar=True)\n",
    "plt.title('Number of Movies Added Per Months on Netflix')\n",
    "plt.xlabel('Month Added')\n",
    "plt.ylabel('Count of Movies')\n",
    "plt.show()"
   ]
  },
  {
   "cell_type": "markdown",
   "id": "d2d31096-550f-4d87-9c8d-21f473bc7383",
   "metadata": {},
   "source": [
    "**This shows movies adding in every month except february**"
   ]
  },
  {
   "cell_type": "code",
   "execution_count": 145,
   "id": "796a227b-ae64-4934-93ef-02ae383da007",
   "metadata": {
    "tags": []
   },
   "outputs": [],
   "source": [
    "netflix_movies_df['duration'] = (netflix_movies_df['date_added'].dt.year - netflix_movies_df['release_year'].dt.year)"
   ]
  },
  {
   "cell_type": "code",
   "execution_count": 147,
   "id": "76fac6fc-130e-46fe-a522-137d6869160a",
   "metadata": {
    "tags": []
   },
   "outputs": [
    {
     "data": {
      "text/plain": [
       "count    8807.000000\n",
       "mean        4.708981\n",
       "std         8.785874\n",
       "min        -3.000000\n",
       "25%         0.000000\n",
       "50%         1.000000\n",
       "75%         5.000000\n",
       "max        93.000000\n",
       "Name: duration, dtype: float64"
      ]
     },
     "execution_count": 147,
     "metadata": {},
     "output_type": "execute_result"
    }
   ],
   "source": [
    "netflix_movies_df['duration'].describe()"
   ]
  },
  {
   "cell_type": "markdown",
   "id": "e1e40e5d-69e7-4262-8477-b4551e030640",
   "metadata": {},
   "source": [
    "**here min is in negative because we added assumption of date_added that is before than release year so that is why it shows negative**"
   ]
  },
  {
   "cell_type": "markdown",
   "id": "4bb60d97-56cc-42d5-9aa3-26496f341dec",
   "metadata": {},
   "source": [
    "![green-divider](https://user-images.githubusercontent.com/7065401/52071924-c003ad80-2562-11e9-8297-1c6595f8a7ff.png)\n"
   ]
  },
  {
   "cell_type": "markdown",
   "id": "d6d4bb70-fd0c-44e5-bd87-c5ee34c68ed5",
   "metadata": {},
   "source": [
    "#### **This year Analysis of Movies [latest in dataset]**"
   ]
  },
  {
   "cell_type": "code",
   "execution_count": 129,
   "id": "de29a31b-14c2-4420-8d3f-10efcafdeb0b",
   "metadata": {
    "tags": []
   },
   "outputs": [],
   "source": [
    "filtered_df = netflix_movies_df[(netflix_movies_df['date_added'] >= '2021-01-01') & (netflix_movies_df['date_added'] <= '2022-01-01')]"
   ]
  },
  {
   "cell_type": "markdown",
   "id": "a9793b05-814b-4c88-af8f-026ad0f7a9e6",
   "metadata": {},
   "source": [
    "**Sliced the Data 2021:2022**"
   ]
  },
  {
   "cell_type": "code",
   "execution_count": 69,
   "id": "01d2b169-8f2c-4152-9b79-9fc401d86a64",
   "metadata": {
    "tags": []
   },
   "outputs": [
    {
     "data": {
      "text/plain": [
       "type\n",
       "Movie      993\n",
       "TV Show    505\n",
       "Name: title, dtype: int64"
      ]
     },
     "execution_count": 69,
     "metadata": {},
     "output_type": "execute_result"
    }
   ],
   "source": [
    "filtered_countType_df = filtered_df.groupby('type')['title'].count()\n",
    "filtered_countType_df"
   ]
  },
  {
   "cell_type": "code",
   "execution_count": 71,
   "id": "f787eee3-b793-444c-8502-e06c08ba5bd3",
   "metadata": {
    "tags": []
   },
   "outputs": [
    {
     "data": {
      "text/plain": [
       "<Axes: xlabel='type'>"
      ]
     },
     "execution_count": 71,
     "metadata": {},
     "output_type": "execute_result"
    },
    {
     "data": {
      "image/png": "[encoded data removed]",
      "text/plain": [
       "<Figure size 640x480 with 1 Axes>"
      ]
     },
     "metadata": {},
     "output_type": "display_data"
    }
   ],
   "source": [
    "filtered_countType_df.plot(kind = 'bar', color='skyblue')"
   ]
  },
  {
   "cell_type": "code",
   "execution_count": 75,
   "id": "57d4b737-c52b-4b81-99cd-1345277208b5",
   "metadata": {
    "tags": []
   },
   "outputs": [
    {
     "data": {
      "text/plain": [
       "rating\n",
       "G          4\n",
       "PG        58\n",
       "PG-13    146\n",
       "R        190\n",
       "TV-14    326\n",
       "TV-G      44\n",
       "TV-MA    489\n",
       "TV-PG     97\n",
       "TV-Y      57\n",
       "TV-Y7     87\n",
       "Name: title, dtype: int64"
      ]
     },
     "execution_count": 75,
     "metadata": {},
     "output_type": "execute_result"
    }
   ],
   "source": [
    "filtered_countRating_df = filtered_df.groupby('rating')['title'].count()\n",
    "filtered_countRating_df"
   ]
  },
  {
   "cell_type": "code",
   "execution_count": 93,
   "id": "a77c5e8e-cfe9-4ad2-97e4-255dca6e661d",
   "metadata": {
    "tags": []
   },
   "outputs": [
    {
     "data": {
      "text/plain": [
       "Text(0.5, 1.0, 'This year movies count added in months')"
      ]
     },
     "execution_count": 93,
     "metadata": {},
     "output_type": "execute_result"
    },
    {
     "data": {
      "image/png": "[encoded data removed]",
      "text/plain": [
       "<Figure size 1200x600 with 2 Axes>"
      ]
     },
     "metadata": {},
     "output_type": "display_data"
    }
   ],
   "source": [
    "plt.figure(figsize=(12,6))\n",
    "filtered_monthlyRevenueThisYEar = filtered_df.groupby('months_added')['title'].count().reset_index()\n",
    "\n",
    "filtered_monthlyRevenueThisYEar_df = filtered_monthlyRevenueThisYEar.set_index('months_added').T\n",
    "\n",
    "sns.heatmap(filtered_monthlyRevenueThisYEar_df, annot=True, fmt=\"d\", cmap='Blues')\n",
    "plt.title('This year movies count added in months')"
   ]
  },
  {
   "cell_type": "markdown",
   "id": "868fc487-5f4b-4a21-8206-c08debcea5f9",
   "metadata": {},
   "source": [
    "**so most movies added in this year in june or july**"
   ]
  },
  {
   "cell_type": "code",
   "execution_count": 151,
   "id": "0a5f8ee2-e3f4-4cf0-a000-e387499217eb",
   "metadata": {
    "tags": []
   },
   "outputs": [
    {
     "data": {
      "text/plain": [
       "count    1498.000000\n",
       "mean        5.750334\n",
       "std         9.178211\n",
       "min         0.000000\n",
       "25%         0.000000\n",
       "50%         1.000000\n",
       "75%         8.000000\n",
       "max        76.000000\n",
       "Name: duration, dtype: float64"
      ]
     },
     "execution_count": 151,
     "metadata": {},
     "output_type": "execute_result"
    }
   ],
   "source": [
    "filtered_df['duration'].describe()"
   ]
  },
  {
   "cell_type": "markdown",
   "id": "b2c6c954-5259-4716-ac15-5744f6857482",
   "metadata": {},
   "source": [
    "**this shows even this year many old movies also added, that is affecting average time period to added the movie**"
   ]
  },
  {
   "cell_type": "code",
   "execution_count": 163,
   "id": "2b50867b-eae2-4d69-bf76-747ba84cdbee",
   "metadata": {
    "tags": []
   },
   "outputs": [
    {
     "data": {
      "text/plain": [
       "<Axes: xlabel='duration'>"
      ]
     },
     "execution_count": 163,
     "metadata": {},
     "output_type": "execute_result"
    },
    {
     "data": {
      "image/png": "[encoded data removed]",
      "text/plain": [
       "<Figure size 640x480 with 1 Axes>"
      ]
     },
     "metadata": {},
     "output_type": "display_data"
    }
   ],
   "source": [
    "sns.boxplot(x=filtered_df['duration'], color='skyblue')"
   ]
  },
  {
   "cell_type": "markdown",
   "id": "700cae76-6e26-4cd1-b2d8-7dfbb158b315",
   "metadata": {},
   "source": [
    "**this helps graphically helps us to understand that mostly movies added within year, the average timestamp of movie added is affective due to old movies added this year including older than 20 year or more old movies**"
   ]
  },
  {
   "cell_type": "code",
   "execution_count": 225,
   "id": "9a66ef92-68f1-4d3c-8f55-7dc4a9a5d2c0",
   "metadata": {
    "tags": []
   },
   "outputs": [],
   "source": [
    "Q3 = filtered_df['duration'].quantile(0.75)\n",
    "Q1 = filtered_df['duration'].quantile(0.25)\n",
    "\n",
    "IQR = Q3 - Q1\n",
    "\n",
    "upper_bound = Q3 + 1.5 * IQR\n",
    "lower_bound = Q1 - 1.5 * IQR"
   ]
  },
  {
   "cell_type": "code",
   "execution_count": 255,
   "id": "879581b2-1043-4830-a689-6779c4339d52",
   "metadata": {
    "tags": []
   },
   "outputs": [
    {
     "data": {
      "text/html": [
       "<div>\n",
       "<style scoped>\n",
       "    .dataframe tbody tr th:only-of-type {\n",
       "        vertical-align: middle;\n",
       "    }\n",
       "\n",
       "    .dataframe tbody tr th {\n",
       "        vertical-align: top;\n",
       "    }\n",
       "\n",
       "    .dataframe thead th {\n",
       "        text-align: right;\n",
       "    }\n",
       "</style>\n",
       "<table border=\"1\" class=\"dataframe\">\n",
       "  <thead>\n",
       "    <tr style=\"text-align: right;\">\n",
       "      <th></th>\n",
       "      <th>type</th>\n",
       "      <th>title</th>\n",
       "      <th>director</th>\n",
       "      <th>cast</th>\n",
       "      <th>country</th>\n",
       "      <th>date_added</th>\n",
       "      <th>release_year</th>\n",
       "      <th>rating</th>\n",
       "      <th>duration</th>\n",
       "      <th>listed_in</th>\n",
       "      <th>description</th>\n",
       "      <th>months_added</th>\n",
       "    </tr>\n",
       "    <tr>\n",
       "      <th>show_id</th>\n",
       "      <th></th>\n",
       "      <th></th>\n",
       "      <th></th>\n",
       "      <th></th>\n",
       "      <th></th>\n",
       "      <th></th>\n",
       "      <th></th>\n",
       "      <th></th>\n",
       "      <th></th>\n",
       "      <th></th>\n",
       "      <th></th>\n",
       "      <th></th>\n",
       "    </tr>\n",
       "  </thead>\n",
       "  <tbody>\n",
       "    <tr>\n",
       "      <th>s8</th>\n",
       "      <td>Movie</td>\n",
       "      <td>Sankofa</td>\n",
       "      <td>Haile Gerima</td>\n",
       "      <td>Kofi Ghanaba, Oyafunmike Ogunlano, Alexandra D...</td>\n",
       "      <td>United States, Ghana, Burkina Faso, United Kin...</td>\n",
       "      <td>2021-09-24</td>\n",
       "      <td>1993-01-01</td>\n",
       "      <td>TV-MA</td>\n",
       "      <td>28</td>\n",
       "      <td>Dramas, Independent Movies, International Movies</td>\n",
       "      <td>On a photo shoot in Ghana, an American model s...</td>\n",
       "      <td>9</td>\n",
       "    </tr>\n",
       "    <tr>\n",
       "      <th>s23</th>\n",
       "      <td>Movie</td>\n",
       "      <td>Avvai Shanmughi</td>\n",
       "      <td>K.S. Ravikumar</td>\n",
       "      <td>Kamal Hassan, Meena, Gemini Ganesan, Heera Raj...</td>\n",
       "      <td>Not Added</td>\n",
       "      <td>2021-09-21</td>\n",
       "      <td>1996-01-01</td>\n",
       "      <td>TV-PG</td>\n",
       "      <td>25</td>\n",
       "      <td>Comedies, International Movies</td>\n",
       "      <td>Newly divorced and denied visitation rights wi...</td>\n",
       "      <td>9</td>\n",
       "    </tr>\n",
       "    <tr>\n",
       "      <th>s25</th>\n",
       "      <td>Movie</td>\n",
       "      <td>Jeans</td>\n",
       "      <td>S. Shankar</td>\n",
       "      <td>Prashanth, Aishwarya Rai Bachchan, Sri Lakshmi...</td>\n",
       "      <td>India</td>\n",
       "      <td>2021-09-21</td>\n",
       "      <td>1998-01-01</td>\n",
       "      <td>TV-14</td>\n",
       "      <td>23</td>\n",
       "      <td>Comedies, International Movies, Romantic Movies</td>\n",
       "      <td>When the father of the man she loves insists t...</td>\n",
       "      <td>9</td>\n",
       "    </tr>\n",
       "    <tr>\n",
       "      <th>s27</th>\n",
       "      <td>Movie</td>\n",
       "      <td>Minsara Kanavu</td>\n",
       "      <td>Rajiv Menon</td>\n",
       "      <td>Arvind Swamy, Kajol, Prabhu Deva, Nassar, S.P....</td>\n",
       "      <td>Not Added</td>\n",
       "      <td>2021-09-21</td>\n",
       "      <td>1997-01-01</td>\n",
       "      <td>TV-PG</td>\n",
       "      <td>24</td>\n",
       "      <td>Comedies, International Movies, Music &amp; Musicals</td>\n",
       "      <td>A tangled love triangle ensues when a man fall...</td>\n",
       "      <td>9</td>\n",
       "    </tr>\n",
       "    <tr>\n",
       "      <th>s42</th>\n",
       "      <td>Movie</td>\n",
       "      <td>Jaws</td>\n",
       "      <td>Steven Spielberg</td>\n",
       "      <td>Roy Scheider, Robert Shaw, Richard Dreyfuss, L...</td>\n",
       "      <td>United States</td>\n",
       "      <td>2021-09-16</td>\n",
       "      <td>1975-01-01</td>\n",
       "      <td>PG</td>\n",
       "      <td>46</td>\n",
       "      <td>Action &amp; Adventure, Classic Movies, Dramas</td>\n",
       "      <td>When an insatiable great white shark terrorize...</td>\n",
       "      <td>9</td>\n",
       "    </tr>\n",
       "  </tbody>\n",
       "</table>\n",
       "</div>"
      ],
      "text/plain": [
       "          type            title          director  \\\n",
       "show_id                                             \n",
       "s8       Movie          Sankofa      Haile Gerima   \n",
       "s23      Movie  Avvai Shanmughi    K.S. Ravikumar   \n",
       "s25      Movie            Jeans        S. Shankar   \n",
       "s27      Movie   Minsara Kanavu       Rajiv Menon   \n",
       "s42      Movie             Jaws  Steven Spielberg   \n",
       "\n",
       "                                                      cast  \\\n",
       "show_id                                                      \n",
       "s8       Kofi Ghanaba, Oyafunmike Ogunlano, Alexandra D...   \n",
       "s23      Kamal Hassan, Meena, Gemini Ganesan, Heera Raj...   \n",
       "s25      Prashanth, Aishwarya Rai Bachchan, Sri Lakshmi...   \n",
       "s27      Arvind Swamy, Kajol, Prabhu Deva, Nassar, S.P....   \n",
       "s42      Roy Scheider, Robert Shaw, Richard Dreyfuss, L...   \n",
       "\n",
       "                                                   country date_added  \\\n",
       "show_id                                                                 \n",
       "s8       United States, Ghana, Burkina Faso, United Kin... 2021-09-24   \n",
       "s23                                              Not Added 2021-09-21   \n",
       "s25                                                  India 2021-09-21   \n",
       "s27                                              Not Added 2021-09-21   \n",
       "s42                                          United States 2021-09-16   \n",
       "\n",
       "        release_year rating  duration  \\\n",
       "show_id                                 \n",
       "s8        1993-01-01  TV-MA        28   \n",
       "s23       1996-01-01  TV-PG        25   \n",
       "s25       1998-01-01  TV-14        23   \n",
       "s27       1997-01-01  TV-PG        24   \n",
       "s42       1975-01-01     PG        46   \n",
       "\n",
       "                                                listed_in  \\\n",
       "show_id                                                     \n",
       "s8       Dramas, Independent Movies, International Movies   \n",
       "s23                        Comedies, International Movies   \n",
       "s25       Comedies, International Movies, Romantic Movies   \n",
       "s27      Comedies, International Movies, Music & Musicals   \n",
       "s42            Action & Adventure, Classic Movies, Dramas   \n",
       "\n",
       "                                               description  months_added  \n",
       "show_id                                                                   \n",
       "s8       On a photo shoot in Ghana, an American model s...             9  \n",
       "s23      Newly divorced and denied visitation rights wi...             9  \n",
       "s25      When the father of the man she loves insists t...             9  \n",
       "s27      A tangled love triangle ensues when a man fall...             9  \n",
       "s42      When an insatiable great white shark terrorize...             9  "
      ]
     },
     "execution_count": 255,
     "metadata": {},
     "output_type": "execute_result"
    }
   ],
   "source": [
    "outlirsDuration_df = filtered_df[filtered_df['duration'] >= upper_bound]\n",
    "outlirsDuration_df.head(5)"
   ]
  },
  {
   "cell_type": "markdown",
   "id": "31ff885a-1ac8-46c3-aa12-9c03bff12b5f",
   "metadata": {},
   "source": [
    "**so these are outliers let's move forward**"
   ]
  },
  {
   "cell_type": "code",
   "execution_count": 232,
   "id": "0df7ac39-0a14-4359-a955-6f2018f1b0c6",
   "metadata": {
    "tags": []
   },
   "outputs": [
    {
     "data": {
      "text/plain": [
       "27.694267515923567"
      ]
     },
     "execution_count": 232,
     "metadata": {},
     "output_type": "execute_result"
    }
   ],
   "source": [
    "outlirsDuration_df['duration'].mean()"
   ]
  },
  {
   "cell_type": "markdown",
   "id": "f90639f1-dbc7-401e-a734-e1f964ec5540",
   "metadata": {},
   "source": [
    "**this shows outliers average is 27 years to added the movie**"
   ]
  },
  {
   "cell_type": "code",
   "execution_count": 250,
   "id": "a1ce2353-f264-4005-ada1-8d3dfd8f0688",
   "metadata": {
    "tags": []
   },
   "outputs": [
    {
     "data": {
      "text/plain": [
       "count    1381.000000\n",
       "mean        3.636495\n",
       "std         5.105093\n",
       "min         0.000000\n",
       "25%         0.000000\n",
       "50%         1.000000\n",
       "75%         6.000000\n",
       "max        20.000000\n",
       "Name: duration, dtype: float64"
      ]
     },
     "execution_count": 250,
     "metadata": {},
     "output_type": "execute_result"
    }
   ],
   "source": [
    "filtered_outliersDuration_df = (filtered_df[(filtered_df['duration'] <= upper_bound) & (filtered_df['duration'] >= lower_bound)])\n",
    "filtered_outliersDuration_df['duration'].describe()"
   ]
  },
  {
   "cell_type": "code",
   "execution_count": 265,
   "id": "e61f7ebe-e401-43f1-a498-64a1cb1c54ef",
   "metadata": {
    "tags": []
   },
   "outputs": [
    {
     "data": {
      "image/png": "[encoded data removed]",
      "text/plain": [
       "<Figure size 1000x600 with 1 Axes>"
      ]
     },
     "metadata": {},
     "output_type": "display_data"
    }
   ],
   "source": [
    "# Plotting the histogram with a density curve\n",
    "plt.figure(figsize=(10, 6))\n",
    "binsSize = np.arange(0, 20, 1)\n",
    "sns.histplot(filtered_outliersDuration_df['duration'], kde=True, bins=binsSize , color='skyblue')\n",
    "\n",
    "# Adding labels and title\n",
    "plt.title('Distribution of Duration with Normal Curve')\n",
    "plt.xlabel('Duration')\n",
    "plt.ylabel('Frequency')\n",
    "\n",
    "# Show the plot\n",
    "plt.show()\n"
   ]
  },
  {
   "cell_type": "markdown",
   "id": "8e281e4a-9571-44dd-be17-4e7e1e99cc98",
   "metadata": {},
   "source": [
    "**so now you can after removing outlier, average decreases so now movies added very quickly average also decrease to 3.6 years with less more outliers**\n",
    "**and variation way less**\n",
    "> and more than 500 films added within year"
   ]
  },
  {
   "cell_type": "code",
   "execution_count": null,
   "id": "fc973c2a-177d-4e7d-88e5-1f6eb32c69d1",
   "metadata": {},
   "outputs": [],
   "source": [
    "# Calculate Q1 (25th percentile) and Q3 (75th percentile)\n",
    "Q1 = emp_df['Salary'].quantile(0.25)\n",
    "Q3 = emp_df['Salary'].quantile(0.75)\n",
    "\n",
    "# Calculate IQR\n",
    "IQR = Q3 - Q1\n",
    "\n",
    "\n",
    "upper_bound = Q3 + 1.4 * IQR"
   ]
  },
  {
   "cell_type": "markdown",
   "id": "edf19061-f23a-4212-9fac-b2c234f1d2f2",
   "metadata": {},
   "source": [
    "\n",
    "\n",
    "![green-divider](https://user-images.githubusercontent.com/7065401/52071924-c003ad80-2562-11e9-8297-1c6595f8a7ff.png)\n"
   ]
  },
  {
   "cell_type": "markdown",
   "id": "107f10df-cffd-4bfb-bdf9-5c4d30fed59d",
   "metadata": {},
   "source": [
    "---"
   ]
  },
  {
   "cell_type": "markdown",
   "id": "f1f9d7d4-2ef7-4940-a464-e2009d2b7b0f",
   "metadata": {},
   "source": [
    "### Netflix Users Analysis"
   ]
  },
  {
   "cell_type": "code",
   "execution_count": 395,
   "id": "09807dcc-90c3-4a55-8d84-eb768aff3395",
   "metadata": {
    "tags": []
   },
   "outputs": [
    {
     "data": {
      "text/html": [
       "<div>\n",
       "<style scoped>\n",
       "    .dataframe tbody tr th:only-of-type {\n",
       "        vertical-align: middle;\n",
       "    }\n",
       "\n",
       "    .dataframe tbody tr th {\n",
       "        vertical-align: top;\n",
       "    }\n",
       "\n",
       "    .dataframe thead th {\n",
       "        text-align: right;\n",
       "    }\n",
       "</style>\n",
       "<table border=\"1\" class=\"dataframe\">\n",
       "  <thead>\n",
       "    <tr style=\"text-align: right;\">\n",
       "      <th></th>\n",
       "      <th>Subscription Type</th>\n",
       "      <th>Monthly Revenue</th>\n",
       "      <th>Join Date</th>\n",
       "      <th>Last Payment Date</th>\n",
       "      <th>Country</th>\n",
       "      <th>Age</th>\n",
       "      <th>Gender</th>\n",
       "      <th>Device</th>\n",
       "      <th>Plan Duration</th>\n",
       "    </tr>\n",
       "    <tr>\n",
       "      <th>User ID</th>\n",
       "      <th></th>\n",
       "      <th></th>\n",
       "      <th></th>\n",
       "      <th></th>\n",
       "      <th></th>\n",
       "      <th></th>\n",
       "      <th></th>\n",
       "      <th></th>\n",
       "      <th></th>\n",
       "    </tr>\n",
       "  </thead>\n",
       "  <tbody>\n",
       "    <tr>\n",
       "      <th>1</th>\n",
       "      <td>Basic</td>\n",
       "      <td>10</td>\n",
       "      <td>2022-01-15</td>\n",
       "      <td>2023-06-10</td>\n",
       "      <td>United States</td>\n",
       "      <td>28</td>\n",
       "      <td>Male</td>\n",
       "      <td>Smartphone</td>\n",
       "      <td>1 Month</td>\n",
       "    </tr>\n",
       "    <tr>\n",
       "      <th>2</th>\n",
       "      <td>Premium</td>\n",
       "      <td>15</td>\n",
       "      <td>2021-09-05</td>\n",
       "      <td>2023-06-22</td>\n",
       "      <td>Canada</td>\n",
       "      <td>35</td>\n",
       "      <td>Female</td>\n",
       "      <td>Tablet</td>\n",
       "      <td>1 Month</td>\n",
       "    </tr>\n",
       "    <tr>\n",
       "      <th>3</th>\n",
       "      <td>Standard</td>\n",
       "      <td>12</td>\n",
       "      <td>2023-02-28</td>\n",
       "      <td>2023-06-27</td>\n",
       "      <td>United Kingdom</td>\n",
       "      <td>42</td>\n",
       "      <td>Male</td>\n",
       "      <td>Smart TV</td>\n",
       "      <td>1 Month</td>\n",
       "    </tr>\n",
       "    <tr>\n",
       "      <th>4</th>\n",
       "      <td>Standard</td>\n",
       "      <td>12</td>\n",
       "      <td>2022-07-10</td>\n",
       "      <td>2023-06-26</td>\n",
       "      <td>Australia</td>\n",
       "      <td>51</td>\n",
       "      <td>Female</td>\n",
       "      <td>Laptop</td>\n",
       "      <td>1 Month</td>\n",
       "    </tr>\n",
       "    <tr>\n",
       "      <th>5</th>\n",
       "      <td>Basic</td>\n",
       "      <td>10</td>\n",
       "      <td>2023-05-01</td>\n",
       "      <td>2023-06-28</td>\n",
       "      <td>Germany</td>\n",
       "      <td>33</td>\n",
       "      <td>Male</td>\n",
       "      <td>Smartphone</td>\n",
       "      <td>1 Month</td>\n",
       "    </tr>\n",
       "  </tbody>\n",
       "</table>\n",
       "</div>"
      ],
      "text/plain": [
       "        Subscription Type  Monthly Revenue  Join Date Last Payment Date  \\\n",
       "User ID                                                                   \n",
       "1                   Basic               10 2022-01-15        2023-06-10   \n",
       "2                 Premium               15 2021-09-05        2023-06-22   \n",
       "3                Standard               12 2023-02-28        2023-06-27   \n",
       "4                Standard               12 2022-07-10        2023-06-26   \n",
       "5                   Basic               10 2023-05-01        2023-06-28   \n",
       "\n",
       "                Country  Age  Gender      Device Plan Duration  \n",
       "User ID                                                         \n",
       "1         United States   28    Male  Smartphone       1 Month  \n",
       "2                Canada   35  Female      Tablet       1 Month  \n",
       "3        United Kingdom   42    Male    Smart TV       1 Month  \n",
       "4             Australia   51  Female      Laptop       1 Month  \n",
       "5               Germany   33    Male  Smartphone       1 Month  "
      ]
     },
     "execution_count": 395,
     "metadata": {},
     "output_type": "execute_result"
    }
   ],
   "source": [
    "netflix_users_df.head(5)"
   ]
  },
  {
   "cell_type": "markdown",
   "id": "9bd06555-4aed-4ab6-95f3-b2d2c61fc05b",
   "metadata": {},
   "source": [
    "**Basic Analysis:**"
   ]
  },
  {
   "cell_type": "code",
   "execution_count": 462,
   "id": "a16ec9cc-865f-49a8-ba63-f43533f0da47",
   "metadata": {
    "tags": []
   },
   "outputs": [
    {
     "data": {
      "image/png": "[encoded data removed]",
      "text/plain": [
       "<Figure size 100x100 with 1 Axes>"
      ]
     },
     "metadata": {},
     "output_type": "display_data"
    }
   ],
   "source": [
    "monthlyRevenueTotal = netflix_users_df['Monthly Revenue'].sum()\n",
    "monthlyRevenueAvg = netflix_users_df['Monthly Revenue'].mean()\n",
    "fig, ax = plt.subplots( figsize=(1,1))\n",
    "\n",
    "# Hide the axes\n",
    "ax.axis('off')\n",
    "\n",
    "# Display the total discounted price as a large text\n",
    "ax.text(0.5, 0.5, f'The Total Revenue is : {monthlyRevenueTotal:,}', \n",
    "        fontsize=20, ha='center', va='center')\n",
    "\n",
    "\n",
    "plt.show()\n"
   ]
  },
  {
   "cell_type": "code",
   "execution_count": 496,
   "id": "6d2ad5ee-5534-4ae9-986f-58a01d482bb0",
   "metadata": {
    "tags": []
   },
   "outputs": [
    {
     "data": {
      "image/png": "[encoded data removed]",
      "text/plain": [
       "<Figure size 100x100 with 1 Axes>"
      ]
     },
     "metadata": {},
     "output_type": "display_data"
    }
   ],
   "source": [
    "last_month = netflix_users_df['Join Date'].dt.to_period('M').max()\n",
    "\n",
    "# Filter the DataFrame for the last month\n",
    "last_month_df = netflix_users_df[netflix_users_df['Join Date'].dt.to_period('M') == last_month]\n",
    "LMRevenue = last_month_df['Monthly Revenue'].sum()\n",
    "\n",
    "fig, ax = plt.subplots( figsize=(1,1))\n",
    "\n",
    "# Hide the axes\n",
    "ax.axis('off')\n",
    "\n",
    "# Display the total discounted price as a large text\n",
    "ax.text(0.5, 0.5, f'The Last Month Revenue is : {LMRevenue :,}', \n",
    "        fontsize=20, ha='center', va='center')\n",
    "\n",
    "\n",
    "plt.show()"
   ]
  },
  {
   "cell_type": "code",
   "execution_count": 513,
   "id": "964cf71f-1c6a-4bf8-94c6-16fd85dbfa96",
   "metadata": {
    "tags": []
   },
   "outputs": [
    {
     "data": {
      "image/png": "[encoded data removed]",
      "text/plain": [
       "<Figure size 100x100 with 1 Axes>"
      ]
     },
     "metadata": {},
     "output_type": "display_data"
    }
   ],
   "source": [
    "unique_months = netflix_users_df['Join Date'].dt.to_period('M').unique()\n",
    "unique_months = sorted(unique_months, reverse=True)\n",
    "\n",
    "# Get the second-to-last month\n",
    "second_last_month = unique_months[1]\n",
    "second_last_month\n",
    "\n",
    "SecondLast_month_df = netflix_users_df[netflix_users_df['Join Date'].dt.to_period('M') == second_last_month]\n",
    "\n",
    "SecondLastMR_month_df = SecondLast_month_df['Monthly Revenue'].sum()\n",
    "\n",
    "fig, ax = plt.subplots( figsize=(1,1))\n",
    "\n",
    "# Hide the axes\n",
    "ax.axis('off')\n",
    "\n",
    "# Display the total discounted price as a large text\n",
    "ax.text(0.5, 0.5, f'The Second Last Month Revenue is : {SecondLastMR_month_df :,}', \n",
    "        fontsize=20, ha='center', va='center')\n",
    "\n",
    "\n",
    "plt.show()"
   ]
  },
  {
   "cell_type": "code",
   "execution_count": 468,
   "id": "0dd9d257-84a7-4dc6-b55a-1e8b7d3bfd61",
   "metadata": {
    "tags": []
   },
   "outputs": [
    {
     "data": {
      "image/png": "[encoded data removed]",
      "text/plain": [
       "<Figure size 100x100 with 1 Axes>"
      ]
     },
     "metadata": {},
     "output_type": "display_data"
    }
   ],
   "source": [
    "monthlyRevenueAvg = netflix_users_df['Monthly Revenue'].mean()\n",
    "fig, ax = plt.subplots( figsize=(1,1))\n",
    "\n",
    "ax.axis('off')\n",
    "\n",
    "# Display the total discounted price as a large text\n",
    "ax.text(0.5, 0.5, f'The Revenue generated by each person is : {monthlyRevenueAvg :,}', \n",
    "        fontsize=20, ha='center', va='center')\n",
    "\n",
    "plt.show()"
   ]
  },
  {
   "cell_type": "markdown",
   "id": "e6d1e232-55de-4a55-bcd8-b1d058073309",
   "metadata": {},
   "source": [
    "**Deep Analysis:**"
   ]
  },
  {
   "cell_type": "code",
   "execution_count": 87,
   "id": "3f13dc20-f167-4c85-aadf-c12c62147831",
   "metadata": {
    "tags": []
   },
   "outputs": [
    {
     "data": {
      "text/plain": [
       "Subscription Type\n",
       "Basic       999\n",
       "Premium     733\n",
       "Standard    768\n",
       "Name: Monthly Revenue, dtype: int64"
      ]
     },
     "execution_count": 87,
     "metadata": {},
     "output_type": "execute_result"
    }
   ],
   "source": [
    "user_typeCount_df = netflix_users_df.groupby('Subscription Type')['Monthly Revenue'].count()\n",
    "user_typeCount_df"
   ]
  },
  {
   "cell_type": "code",
   "execution_count": 89,
   "id": "e280e9a8-d1c4-44c3-89ce-3abbd650d869",
   "metadata": {
    "tags": []
   },
   "outputs": [
    {
     "data": {
      "text/plain": [
       "<Axes: xlabel='Subscription Type'>"
      ]
     },
     "execution_count": 89,
     "metadata": {},
     "output_type": "execute_result"
    },
    {
     "data": {
      "image/png": "[encoded data removed]",
      "text/plain": [
       "<Figure size 640x480 with 1 Axes>"
      ]
     },
     "metadata": {},
     "output_type": "display_data"
    }
   ],
   "source": [
    "user_typeCount_df.plot(kind = 'bar', color='skyblue')"
   ]
  },
  {
   "cell_type": "code",
   "execution_count": 91,
   "id": "b2557c50-619d-4606-9d94-f5c3dfb4c49f",
   "metadata": {
    "tags": []
   },
   "outputs": [
    {
     "data": {
      "text/plain": [
       "Subscription Type\n",
       "Basic       12469\n",
       "Premium      9229\n",
       "Standard     9573\n",
       "Name: Monthly Revenue, dtype: int64"
      ]
     },
     "execution_count": 91,
     "metadata": {},
     "output_type": "execute_result"
    }
   ],
   "source": [
    "user_typeMR_df = netflix_users_df.groupby('Subscription Type')['Monthly Revenue'].sum()\n",
    "user_typeMR_df"
   ]
  },
  {
   "cell_type": "markdown",
   "id": "3627f3fc-84bf-4770-9d9b-a69205698e2d",
   "metadata": {},
   "source": [
    "**Checking for outliers**"
   ]
  },
  {
   "cell_type": "code",
   "execution_count": 168,
   "id": "f21ff83b-6f48-4a53-b75a-ff1e1edad3f0",
   "metadata": {
    "tags": []
   },
   "outputs": [
    {
     "data": {
      "text/plain": [
       "<Axes: xlabel='Monthly Revenue'>"
      ]
     },
     "execution_count": 168,
     "metadata": {},
     "output_type": "execute_result"
    },
    {
     "data": {
      "image/png": "[encoded data removed]",
      "text/plain": [
       "<Figure size 640x480 with 1 Axes>"
      ]
     },
     "metadata": {},
     "output_type": "display_data"
    }
   ],
   "source": [
    "sns.boxplot(x=netflix_users_df['Monthly Revenue'], color='skyblue')"
   ]
  },
  {
   "cell_type": "markdown",
   "id": "0087d5df-2a1b-4511-a417-ef16c3ff091e",
   "metadata": {
    "tags": []
   },
   "source": [
    "**so no outliers exists, let's move forward**"
   ]
  },
  {
   "cell_type": "code",
   "execution_count": 93,
   "id": "3f12833e-1966-469c-b869-7849a82f7d05",
   "metadata": {
    "tags": []
   },
   "outputs": [
    {
     "data": {
      "text/plain": [
       "<Axes: xlabel='Subscription Type'>"
      ]
     },
     "execution_count": 93,
     "metadata": {},
     "output_type": "execute_result"
    },
    {
     "data": {
      "image/png": "[encoded data removed]",
      "text/plain": [
       "<Figure size 640x480 with 1 Axes>"
      ]
     },
     "metadata": {},
     "output_type": "display_data"
    }
   ],
   "source": [
    "user_typeMR_df.plot(kind = 'bar', color='skyblue')"
   ]
  },
  {
   "cell_type": "code",
   "execution_count": 95,
   "id": "425735c4-469f-445e-8b5e-ee6db02c5040",
   "metadata": {
    "tags": []
   },
   "outputs": [
    {
     "data": {
      "text/plain": [
       "Country\n",
       "Australia         183\n",
       "Brazil            183\n",
       "Canada            317\n",
       "France            183\n",
       "Germany           183\n",
       "Italy             183\n",
       "Mexico            183\n",
       "Spain             451\n",
       "United Kingdom    183\n",
       "United States     451\n",
       "Name: Monthly Revenue, dtype: int64"
      ]
     },
     "execution_count": 95,
     "metadata": {},
     "output_type": "execute_result"
    }
   ],
   "source": [
    "user_countryCount_df = netflix_users_df.groupby('Country')['Monthly Revenue'].count()\n",
    "user_countryCount_df"
   ]
  },
  {
   "cell_type": "code",
   "execution_count": 97,
   "id": "e1d84a96-f68e-4832-a7bd-641395b40717",
   "metadata": {
    "tags": []
   },
   "outputs": [
    {
     "data": {
      "text/plain": [
       "<Axes: xlabel='Country'>"
      ]
     },
     "execution_count": 97,
     "metadata": {},
     "output_type": "execute_result"
    },
    {
     "data": {
      "image/png": "[encoded data removed]",
      "text/plain": [
       "<Figure size 640x480 with 1 Axes>"
      ]
     },
     "metadata": {},
     "output_type": "display_data"
    }
   ],
   "source": [
    "user_countryCount_df.plot(kind = 'bar', color='skyblue')"
   ]
  },
  {
   "cell_type": "code",
   "execution_count": 376,
   "id": "12b48060-6d7c-4ab3-95e0-1529a837be66",
   "metadata": {
    "tags": []
   },
   "outputs": [
    {
     "data": {
      "text/plain": [
       "Device\n",
       "Laptop        636\n",
       "Smart TV      610\n",
       "Smartphone    621\n",
       "Tablet        633\n",
       "Name: Join Date, dtype: int64"
      ]
     },
     "execution_count": 376,
     "metadata": {},
     "output_type": "execute_result"
    }
   ],
   "source": [
    "netflix_usersDevCount_df = netflix_users_df.groupby('Device')['Join Date'].count()\n",
    "netflix_usersDevCount_df"
   ]
  },
  {
   "cell_type": "code",
   "execution_count": 405,
   "id": "e54f7a17-19ba-4fd6-856d-61fa2200d583",
   "metadata": {
    "tags": []
   },
   "outputs": [
    {
     "data": {
      "text/plain": [
       "Plan Duration\n",
       "1 Month    2500\n",
       "Name: Join Date, dtype: int64"
      ]
     },
     "execution_count": 405,
     "metadata": {},
     "output_type": "execute_result"
    }
   ],
   "source": [
    "netflix_usersPlanDuration_df = netflix_users_df.groupby('Plan Duration')['Join Date'].count()\n",
    "\n",
    "netflix_usersPlanDuration_df"
   ]
  },
  {
   "cell_type": "markdown",
   "id": "5d31dd65-6d70-41d1-b7b2-619e822b8530",
   "metadata": {},
   "source": [
    "### This year User Analysis {latest]"
   ]
  },
  {
   "cell_type": "code",
   "execution_count": 388,
   "id": "0755b074-a658-4f53-b2d5-989589ca1332",
   "metadata": {
    "tags": []
   },
   "outputs": [],
   "source": [
    "filtered_users_df = netflix_users_df[(netflix_users_df['Join Date'] >= '2022-01-01') & (netflix_users_df['Join Date'] <= '2023-01-01')]"
   ]
  },
  {
   "cell_type": "markdown",
   "id": "4a68846b-146a-44ef-9526-b520c2c687d8",
   "metadata": {},
   "source": [
    "**Sliced the  data for 2022:2023**"
   ]
  },
  {
   "cell_type": "code",
   "execution_count": 390,
   "id": "591c24b8-b51e-432e-ac2d-2a26d1c25cbd",
   "metadata": {
    "tags": []
   },
   "outputs": [
    {
     "data": {
      "image/png": "[encoded data removed]",
      "text/plain": [
       "<Figure size 640x480 with 1 Axes>"
      ]
     },
     "metadata": {},
     "output_type": "display_data"
    }
   ],
   "source": [
    "filtered_country_df = filtered_users_df.groupby('Country')['Monthly Revenue'].count()\n",
    "# Plot the 'Monthly Revenue' of the filtered data\n",
    "filtered_country_df.plot(kind='bar', title='Monthly Revenue for Users Joined Between 01-01-2022 and 01-01-2023', color='skyblue')\n",
    "plt.xlabel('User ID')\n",
    "plt.ylabel('Monthly Revenue')\n",
    "plt.show()"
   ]
  },
  {
   "cell_type": "code",
   "execution_count": 322,
   "id": "9a7f03fb-f7fe-44df-a5b5-249194a3269b",
   "metadata": {
    "tags": []
   },
   "outputs": [],
   "source": [
    "filtered_users_df = filtered_users_df.copy()\n"
   ]
  },
  {
   "cell_type": "code",
   "execution_count": 335,
   "id": "38e8df7a-a49b-4dc5-a4b9-f04b8bbd496b",
   "metadata": {
    "tags": []
   },
   "outputs": [],
   "source": [
    "filtered_users_df['month_join'] = filtered_users_df['Join Date'].dt.month\n"
   ]
  },
  {
   "cell_type": "code",
   "execution_count": 345,
   "id": "30e25cd8-084d-41f5-872e-7a567606e832",
   "metadata": {
    "tags": []
   },
   "outputs": [],
   "source": [
    "filtered_users_df['month_till_next_pay'] = filtered_users_df['Last Payment Date'].dt.month"
   ]
  },
  {
   "cell_type": "code",
   "execution_count": 371,
   "id": "ecf6ad27-9d35-405f-8558-7b84eababc86",
   "metadata": {
    "tags": []
   },
   "outputs": [
    {
     "data": {
      "image/png": "[encoded data removed]",
      "text/plain": [
       "<Figure size 1200x600 with 4 Axes>"
      ]
     },
     "metadata": {},
     "output_type": "display_data"
    }
   ],
   "source": [
    "fig, ax = plt.subplots(nrows=2, figsize=(12, 6))\n",
    "\n",
    "# Group and pivot the data for the first heatmap (Join Date by month)\n",
    "filtered_usersMonthlyJoin_df = filtered_users_df.groupby('month_join')['Join Date'].count().reset_index()\n",
    "filtered_usersMonthlyJoin_pivot_df = filtered_usersMonthlyJoin_df.set_index('month_join').T\n",
    "\n",
    "# Plot the first heatmap\n",
    "sns.heatmap(filtered_usersMonthlyJoin_pivot_df, ax=ax[0], annot=True, fmt='d', cmap='Blues')\n",
    "ax[0].set_title('Users Join Date by Month')\n",
    "\n",
    "# Group and pivot the data for the second heatmap (Last Payment Date by month till next pay)\n",
    "filtered_usersMonthlyLP_df = filtered_users_df.groupby('month_till_next_pay')['Last Payment Date'].count().reset_index()\n",
    "filtered_usersMonthlyLP_pivot_df = filtered_usersMonthlyLP_df.set_index('month_till_next_pay').T\n",
    "\n",
    "# Plot the second heatmap\n",
    "sns.heatmap(filtered_usersMonthlyLP_pivot_df, ax=ax[1], annot=True, fmt='d', cmap='Blues')\n",
    "ax[1].set_title('Last Payment Date by Month Till Next Pay')\n",
    "\n",
    "# Display the plot\n",
    "plt.tight_layout()\n",
    "plt.show()"
   ]
  },
  {
   "cell_type": "code",
   "execution_count": 378,
   "id": "d402877a-69d6-4316-8a84-4c7875f779f9",
   "metadata": {
    "tags": []
   },
   "outputs": [],
   "source": [
    "filtered_usersDevCount_df = filtered_users_df.groupby('Device')['Join Date'].count()"
   ]
  },
  {
   "cell_type": "code",
   "execution_count": 386,
   "id": "3643af15-5cdd-4d38-b69e-fc7cc8bb885f",
   "metadata": {
    "tags": []
   },
   "outputs": [
    {
     "data": {
      "text/plain": [
       "Text(0.5, 1.0, 'Users Using Devices to Watch NEtflix')"
      ]
     },
     "execution_count": 386,
     "metadata": {},
     "output_type": "execute_result"
    },
    {
     "data": {
      "image/png": "[encoded data removed]",
      "text/plain": [
       "<Figure size 640x480 with 1 Axes>"
      ]
     },
     "metadata": {},
     "output_type": "display_data"
    }
   ],
   "source": [
    "filtered_usersDevCount_df.plot(kind='bar', color='skyblue')\n",
    "plt.title('Users Using Devices to Watch NEtflix')"
   ]
  },
  {
   "cell_type": "markdown",
   "id": "ae2ebd73-f563-4b86-a383-21892b6db977",
   "metadata": {},
   "source": [
    "# Netflix Data Analysis\n",
    "\n",
    "## Introduction\n",
    "\n",
    "In this analysis, we explore two datasets related to Netflix to extract meaningful insights. The datasets analyzed are:\n",
    "1. **Netflix Userbase**\n",
    "2. **Netflix Movies**\n",
    "\n",
    "---\n",
    "![green-divider](https://user-images.githubusercontent.com/7065401/52071924-c003ad80-2562-11e9-8297-1c6595f8a7ff.png)\n",
    "\n",
    "## 1. Netflix Userbase Analysis\n",
    "\n",
    "### Demographics and Subscription Details\n",
    "\n",
    "- **Age Distribution**:\n",
    "  - The age distribution of Netflix users reveals which age brackets are most represented. This can help tailor content and marketing strategies to target these specific groups.\n",
    "\n",
    "- **Geographical Distribution**:\n",
    "  - Users are distributed across various countries, with some regions contributing more significantly to the subscriber base and revenue. This segmentation allows Netflix to understand regional preferences and adjust its offerings accordingly.\n",
    "\n",
    "### Subscription Trends\n",
    "\n",
    "- **Monthly Revenue Analysis**:\n",
    "  - We filtered the user data for those who joined between January 2022 and January 2023. Analyzing the monthly revenue from these new users helps identify seasonal trends in sign-ups and their impact on overall revenue.\n",
    "\n",
    "- **Churn Analysis**:\n",
    "  - By examining the last payment dates and correlating them with user activity, we can identify patterns in user churn. This analysis is crucial for developing strategies to reduce churn rates and improve retention.\n",
    "\n",
    "### Device Usage\n",
    "\n",
    "- **Device Popularity**:\n",
    "  - The analysis shows which devices are most popular among Netflix users (e.g., mobile, tablet, desktop, smart TVs). Understanding device preferences is essential for optimizing the viewing experience across different platforms.\n",
    "\n",
    "---\n",
    "![green-divider](https://user-images.githubusercontent.com/7065401/52071924-c003ad80-2562-11e9-8297-1c6595f8a7ff.png)\n",
    "\n",
    "## 2. Netflix Movies Analysis\n",
    "\n",
    "### Content Library Overview\n",
    "\n",
    "- **Genre Popularity**:\n",
    "  - The breakdown of Netflix’s content library by genre helps identify the most popular genres among users. This insight is valuable for content acquisition and production decisions to keep the library appealing to a broad audience.\n",
    "\n",
    "- **Ratings and Reviews**:\n",
    "  - Analyzing the distribution of ratings across different titles provides insights into user satisfaction. High-rated content can be promoted more heavily, while low-rated content can be evaluated for improvement or removal.\n",
    "\n",
    "### Trends Over Time\n",
    "\n",
    "- **Release Date Analysis**:\n",
    "  - By examining the release dates of titles, we can identify trends in how frequently new content is added to Netflix. This analysis can also show how the frequency of new releases correlates with user engagement.\n",
    "\n",
    "- **Content Longevity**:\n",
    "  - Some content remains popular long after its release, while others quickly lose viewership. Analyzing content longevity helps understand what keeps certain shows or movies popular over time.\n",
    "\n",
    "### Content Performance\n",
    "\n",
    "- **Top-Performing Titles**:\n",
    "  - Identifying the top-performing titles in terms of viewership and ratings offers insights into the types of content that resonate most with the audience. These titles can serve as benchmarks for future content strategies.\n",
    "\n",
    "- **Underperforming Content**:\n",
    "  - Analyzing underperforming titles helps Netflix avoid similar content pitfalls in the future. Understanding why certain content fails to attract viewers is crucial for refining content strategies.\n",
    "\n",
    "---\n",
    "![green-divider](https://user-images.githubusercontent.com/7065401/52071924-c003ad80-2562-11e9-8297-1c6595f8a7ff.png)\n",
    "\n",
    "## Conclusion\n",
    "\n",
    "The comprehensive analysis of the Netflix Userbase and Titles datasets reveals critical insights that can inform Netflix's business strategies:\n",
    "- **Enhance User Retention**:\n",
    "  - By understanding churn patterns and device usage, Netflix can develop strategies to keep users engaged and improve retention rates.\n",
    "  \n",
    "- **Optimize Content Offerings**:\n",
    "  - Detailed analysis of genre trends and content ratings can guide Netflix in acquiring or producing content that aligns with viewer preferences.\n",
    "\n",
    "- **Drive Revenue Growth**:\n",
    "  - Identifying revenue patterns and seasonal trends helps Netflix time its marketing efforts and promotions effectively, maximizing revenue potential.\n",
    "\n",
    "This analysis underscores the importance of data-driven decision-making in optimizing both user experience and content strategy for sustained growth.\n"
   ]
  },
  {
   "cell_type": "code",
   "execution_count": null,
   "id": "89f11cfc-9272-4f20-a2b3-ba947e206e28",
   "metadata": {},
   "outputs": [],
   "source": []
  }
 ],
 "metadata": {
  "kernelspec": {
   "display_name": "Python 3 (ipykernel)",
   "language": "python",
   "name": "python3"
  },
  "language_info": {
   "codemirror_mode": {
    "name": "ipython",
    "version": 3
   },
   "file_extension": ".py",
   "mimetype": "text/x-python",
   "name": "python",
   "nbconvert_exporter": "python",
   "pygments_lexer": "ipython3",
   "version": "3.11.5"
  }
 },
 "nbformat": 4,
 "nbformat_minor": 5
}
